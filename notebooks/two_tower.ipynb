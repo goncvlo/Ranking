{
 "cells": [
  {
   "cell_type": "code",
   "execution_count": 1,
   "id": "6fa35c35",
   "metadata": {},
   "outputs": [],
   "source": [
    "import sys\n",
    "import os\n",
    "\n",
    "sys.path.append(os.path.abspath('..'))\n",
    "\n",
    "import yaml\n",
    "import pandas as pd\n",
    "import optuna\n",
    "import numpy as np\n",
    "\n",
    "from src.data.load import load_data\n",
    "from src.data.prepare import prepare_data\n",
    "from src.features.features import feature_engineering\n",
    "from src.models.utils import leave_last_k, set_global_seed\n",
    "from src.models.tuner import BayesianSearch\n",
    "from src.models.retrieval import Retrieval\n",
    "from src.models.evaluator import Evaluation"
   ]
  },
  {
   "cell_type": "code",
   "execution_count": 2,
   "id": "0cbdb26b",
   "metadata": {},
   "outputs": [],
   "source": [
    "# read config\n",
    "with open('config.yml', 'r') as file:\n",
    "    config=yaml.load(file, Loader= yaml.SafeLoader)\n",
    "del file\n",
    "\n",
    "# ensure reproducibility\n",
    "set_global_seed(seed=config[\"general\"][\"seed\"])"
   ]
  },
  {
   "cell_type": "markdown",
   "id": "0569496d",
   "metadata": {},
   "source": [
    "**Data Preparation & Train/Test Split**\n",
    "\n",
    "- Load and transform the 3 datasets\n",
    "- Split whole set into train, validation and test sets by segmenting it temporally"
   ]
  },
  {
   "cell_type": "code",
   "execution_count": 3,
   "id": "de3ceb8d",
   "metadata": {},
   "outputs": [],
   "source": [
    "# load and prepare data\n",
    "dfs = load_data(config=config['data_loader'])\n",
    "dfs = prepare_data(dataframes=dfs, config=config[\"data_preparation\"])"
   ]
  },
  {
   "cell_type": "code",
   "execution_count": 4,
   "id": "bbe7e5ce",
   "metadata": {},
   "outputs": [],
   "source": [
    "# train-test split\n",
    "df_train, df_test = leave_last_k(df=dfs['data'], config=config['optimization'])\n",
    "df_train, df_valid = leave_last_k(df=df_train, config=config['optimization'])"
   ]
  },
  {
   "cell_type": "markdown",
   "id": "23eb620d",
   "metadata": {},
   "source": [
    "**Feature Engineering & Optimization**\n",
    "\n",
    "- Add negative samples, i.e., items likely to be disliked by user\n",
    "- Feature Engineering - creates cross user-item features for ranking model\n",
    "- Search which hyper-parameters optimize scoring metric for the given algorithm in the validation set"
   ]
  },
  {
   "cell_type": "code",
   "execution_count": 5,
   "id": "d85b542f",
   "metadata": {},
   "outputs": [],
   "source": [
    "# build features for ranking model\n",
    "features = feature_engineering(\n",
    "    dataframes={'user': dfs['user'], 'item': dfs['item'], 'data': df_train}\n",
    "    )"
   ]
  },
  {
   "cell_type": "code",
   "execution_count": 6,
   "id": "31440cbd",
   "metadata": {},
   "outputs": [],
   "source": [
    "# user and item id mappings\n",
    "mapping = {\n",
    "    \"user\": {uid: i for i, uid in dfs[\"user\"][[\"user_id_encoded\", \"user_id\"]].values},\n",
    "    \"item\": {iid: i for i, iid in enumerate(df_train[\"item_id\"].unique())}\n",
    "}\n",
    "\n",
    "features[\"user\"][\"user_id_encoded\"] = features[\"user\"][\"user_id\"].map(mapping[\"user\"])\n",
    "features[\"user\"] = features[\"user\"].sort_values(\"user_id_encoded\")\n",
    "features[\"item\"][\"item_id_encoded\"] = features[\"item\"][\"item_id\"].map(mapping[\"item\"])\n",
    "features[\"item\"] = features[\"item\"].sort_values(\"item_id_encoded\")\n",
    "\n",
    "df_train[\"item_id_encoded\"] = df_train[\"item_id\"].map(mapping[\"item\"])\n",
    "df_valid[\"item_id_encoded\"] = df_valid[\"item_id\"].map(mapping[\"item\"])\n",
    "\n",
    "# filter out non existing items from validation\n",
    "df_valid = df_valid.dropna()\n",
    "df_valid[\"item_id_encoded\"] = df_valid[\"item_id_encoded\"].astype(int)\n",
    "\n",
    "del mapping"
   ]
  },
  {
   "cell_type": "code",
   "execution_count": 7,
   "id": "c6f95d47",
   "metadata": {},
   "outputs": [
    {
     "name": "stderr",
     "output_type": "stream",
     "text": [
      "[I 2025-08-02 20:00:59,033] A new study created in memory with name: no-name-bc3ef049-415a-45c9-8d4d-d6293e5b6ee7\n",
      "[I 2025-08-02 20:02:15,749] Trial 0 finished with value: 0.021 and parameters: {'embedding_dim': 68, 'num_user_layers': 8, 'num_item_layers': 7, 'lr': 0.006026718993550663, 'user_layer_0': 47, 'user_layer_1': 47, 'user_layer_2': 37, 'user_layer_3': 116, 'user_layer_4': 90, 'user_layer_5': 100, 'user_layer_6': 33, 'user_layer_7': 126, 'user_dropout_0': 0.41622132040021087, 'user_dropout_1': 0.10616955533913808, 'user_dropout_2': 0.09091248360355031, 'user_dropout_3': 0.09170225492671691, 'user_dropout_4': 0.15212112147976886, 'user_dropout_5': 0.2623782158161189, 'user_dropout_6': 0.21597250932105788, 'user_dropout_7': 0.14561457009902096, 'item_layer_0': 91, 'item_layer_1': 45, 'item_layer_2': 60, 'item_layer_3': 67, 'item_layer_4': 76, 'item_layer_5': 108, 'item_layer_6': 51, 'item_dropout_0': 0.2571172192068058, 'item_dropout_1': 0.29620728443102123, 'item_dropout_2': 0.023225206359998862, 'item_dropout_3': 0.3037724259507192, 'item_dropout_4': 0.08526206184364576, 'item_dropout_5': 0.03252579649263976, 'item_dropout_6': 0.4744427686266666}. Best is trial 0 with value: 0.021.\n",
      "[I 2025-08-02 20:03:18,220] Trial 1 finished with value: 0.02185 and parameters: {'embedding_dim': 125, 'num_user_layers': 8, 'num_item_layers': 5, 'lr': 0.0010669539286632004, 'user_layer_0': 98, 'user_layer_1': 74, 'user_layer_2': 43, 'user_layer_3': 80, 'user_layer_4': 35, 'user_layer_5': 120, 'user_layer_6': 57, 'user_layer_7': 96, 'user_dropout_0': 0.15585553804470548, 'user_dropout_1': 0.2600340105889054, 'user_dropout_2': 0.2733551396716398, 'user_dropout_3': 0.09242722776276352, 'user_dropout_4': 0.4847923138822793, 'user_dropout_5': 0.3875664116805573, 'user_dropout_6': 0.46974947078209456, 'user_dropout_7': 0.4474136752138244, 'item_layer_0': 89, 'item_layer_1': 121, 'item_layer_2': 40, 'item_layer_3': 51, 'item_layer_4': 36, 'item_dropout_0': 0.16266516538163217, 'item_dropout_1': 0.194338644844741, 'item_dropout_2': 0.13567451588694796, 'item_dropout_3': 0.41436875457596467, 'item_dropout_4': 0.17837666334679464}. Best is trial 1 with value: 0.02185.\n",
      "[I 2025-08-02 20:04:10,130] Trial 2 finished with value: 0.03584 and parameters: {'embedding_dim': 59, 'num_user_layers': 6, 'num_item_layers': 4, 'lr': 0.008041750109464993, 'user_layer_0': 39, 'user_layer_1': 127, 'user_layer_2': 106, 'user_layer_3': 51, 'user_layer_4': 32, 'user_layer_5': 111, 'user_dropout_0': 0.35342867192380856, 'user_dropout_1': 0.36450358402049365, 'user_dropout_2': 0.38563517334297287, 'user_dropout_3': 0.03702232586704518, 'user_dropout_4': 0.1792328642721363, 'user_dropout_5': 0.05793452976256486, 'item_layer_0': 115, 'item_layer_1': 92, 'item_layer_2': 64, 'item_layer_3': 38, 'item_dropout_0': 0.1554911608578311, 'item_dropout_1': 0.16259166101337352, 'item_dropout_2': 0.36480308916903204, 'item_dropout_3': 0.31877873567760656}. Best is trial 2 with value: 0.03584.\n",
      "[I 2025-08-02 20:05:06,273] Trial 3 finished with value: 0.01654 and parameters: {'embedding_dim': 118, 'num_user_layers': 6, 'num_item_layers': 4, 'lr': 0.007161123393507651, 'user_layer_0': 105, 'user_layer_1': 86, 'user_layer_2': 106, 'user_layer_3': 79, 'user_layer_4': 82, 'user_layer_5': 73, 'user_dropout_0': 0.012709563372047594, 'user_dropout_1': 0.053945713496652226, 'user_dropout_2': 0.015714592843367126, 'user_dropout_3': 0.3182052056318902, 'user_dropout_4': 0.15717799053816334, 'user_dropout_5': 0.2542853455823514, 'item_layer_0': 120, 'item_layer_1': 56, 'item_layer_2': 71, 'item_layer_3': 105, 'item_dropout_0': 0.11439908274581123, 'item_dropout_1': 0.038489954914396496, 'item_dropout_2': 0.144875726456884, 'item_dropout_3': 0.08061064362700221}. Best is trial 2 with value: 0.03584.\n",
      "[I 2025-08-02 20:06:25,655] Trial 4 finished with value: 0.04517 and parameters: {'embedding_dim': 122, 'num_user_layers': 8, 'num_item_layers': 7, 'lr': 0.008727459842858406, 'user_layer_0': 109, 'user_layer_1': 50, 'user_layer_2': 118, 'user_layer_3': 84, 'user_layer_4': 110, 'user_layer_5': 118, 'user_layer_6': 62, 'user_layer_7': 42, 'user_dropout_0': 0.11396758127097084, 'user_dropout_1': 0.21355389431312816, 'user_dropout_2': 0.40900738296124656, 'user_dropout_3': 0.4303652916281717, 'user_dropout_4': 0.0034760652655953517, 'user_dropout_5': 0.25537365128878287, 'user_dropout_6': 0.2087055015743895, 'user_dropout_7': 0.11105390523536512, 'item_layer_0': 43, 'item_layer_1': 64, 'item_layer_2': 123, 'item_layer_3': 63, 'item_layer_4': 82, 'item_layer_5': 100, 'item_layer_6': 67, 'item_dropout_0': 0.48589104136048034, 'item_dropout_1': 0.4812236474710556, 'item_dropout_2': 0.12589114791268208, 'item_dropout_3': 0.24862425294619273, 'item_dropout_4': 0.15043915490838483, 'item_dropout_5': 0.1424202471887338, 'item_dropout_6': 0.018443473677266398}. Best is trial 4 with value: 0.04517.\n",
      "[I 2025-08-02 20:12:18,701] Trial 5 finished with value: 0.04242 and parameters: {'embedding_dim': 91, 'num_user_layers': 6, 'num_item_layers': 4, 'lr': 0.0028585999959424534, 'user_layer_0': 120, 'user_layer_1': 55, 'user_layer_2': 46, 'user_layer_3': 79, 'user_layer_4': 127, 'user_layer_5': 55, 'user_dropout_0': 0.3360677737029393, 'user_dropout_1': 0.3808098076643588, 'user_dropout_2': 0.11881877199619983, 'user_dropout_3': 0.3641081743059298, 'user_dropout_4': 0.1838915663596266, 'user_dropout_5': 0.31615291529678974, 'item_layer_0': 93, 'item_layer_1': 83, 'item_layer_2': 40, 'item_layer_3': 113, 'item_dropout_0': 0.16039003248586792, 'item_dropout_1': 0.09325925519992712, 'item_dropout_2': 0.020387570777381958, 'item_dropout_3': 0.2954464715941209}. Best is trial 4 with value: 0.04517.\n",
      "[I 2025-08-02 20:13:27,594] Trial 6 finished with value: 0.0369 and parameters: {'embedding_dim': 97, 'num_user_layers': 4, 'num_item_layers': 6, 'lr': 0.0023423081744595856, 'user_layer_0': 94, 'user_layer_1': 48, 'user_layer_2': 99, 'user_layer_3': 69, 'user_dropout_0': 0.46836499436836726, 'user_dropout_1': 0.06876047207299663, 'user_dropout_2': 0.17053317552512925, 'user_dropout_3': 0.056736760620294535, 'item_layer_0': 121, 'item_layer_1': 117, 'item_layer_2': 57, 'item_layer_3': 96, 'item_layer_4': 111, 'item_layer_5': 85, 'item_dropout_0': 0.26482528917800324, 'item_dropout_1': 0.12092614545022584, 'item_dropout_2': 0.046551383902949606, 'item_dropout_3': 0.4486078789766634, 'item_dropout_4': 0.4502090285816652, 'item_dropout_5': 0.31655072863663397}. Best is trial 4 with value: 0.04517.\n",
      "[I 2025-08-02 20:15:05,776] Trial 7 finished with value: 0.00997 and parameters: {'embedding_dim': 64, 'num_user_layers': 5, 'num_item_layers': 7, 'lr': 0.008981391573530513, 'user_layer_0': 118, 'user_layer_1': 107, 'user_layer_2': 94, 'user_layer_3': 40, 'user_layer_4': 47, 'user_dropout_0': 0.4492770942635396, 'user_dropout_1': 0.30321452982979497, 'user_dropout_2': 0.004598525808314824, 'user_dropout_3': 0.05073577143301605, 'user_dropout_4': 0.3317508845540279, 'item_layer_0': 32, 'item_layer_1': 47, 'item_layer_2': 85, 'item_layer_3': 99, 'item_layer_4': 95, 'item_layer_5': 53, 'item_layer_6': 101, 'item_dropout_0': 0.11862454374840004, 'item_dropout_1': 0.16269984907963386, 'item_dropout_2': 0.37324570255901207, 'item_dropout_3': 0.32481644952360733, 'item_dropout_4': 0.42461170524708897, 'item_dropout_5': 0.3288064461501717, 'item_dropout_6': 0.2841543016677358}. Best is trial 4 with value: 0.04517.\n",
      "[I 2025-08-02 20:16:37,294] Trial 8 finished with value: 0.03775 and parameters: {'embedding_dim': 41, 'num_user_layers': 5, 'num_item_layers': 5, 'lr': 0.0025154974694529273, 'user_layer_0': 126, 'user_layer_1': 70, 'user_layer_2': 118, 'user_layer_3': 93, 'user_layer_4': 109, 'user_dropout_0': 0.25131854655259606, 'user_dropout_1': 0.28845194231317955, 'user_dropout_2': 0.24625884690943195, 'user_dropout_3': 0.09762149389902225, 'user_dropout_4': 0.36122605763075266, 'item_layer_0': 59, 'item_layer_1': 34, 'item_layer_2': 94, 'item_layer_3': 49, 'item_layer_4': 123, 'item_dropout_0': 0.4769642885012937, 'item_dropout_1': 0.45743219511022426, 'item_dropout_2': 0.1850793501277222, 'item_dropout_3': 0.007728308264433714, 'item_dropout_4': 0.4641592812938627}. Best is trial 4 with value: 0.04517.\n",
      "[I 2025-08-02 20:18:46,531] Trial 9 finished with value: 0.03499 and parameters: {'embedding_dim': 73, 'num_user_layers': 8, 'num_item_layers': 8, 'lr': 0.008544793609126865, 'user_layer_0': 60, 'user_layer_1': 69, 'user_layer_2': 114, 'user_layer_3': 62, 'user_layer_4': 48, 'user_layer_5': 86, 'user_layer_6': 122, 'user_layer_7': 99, 'user_dropout_0': 0.2850305850446825, 'user_dropout_1': 0.04858824688538427, 'user_dropout_2': 0.30750361334958487, 'user_dropout_3': 0.49502692505213164, 'user_dropout_4': 0.07004200761826201, 'user_dropout_5': 0.25916482618186837, 'user_dropout_6': 0.4386865359639777, 'user_dropout_7': 0.3703843088771022, 'item_layer_0': 99, 'item_layer_1': 100, 'item_layer_2': 66, 'item_layer_3': 60, 'item_layer_4': 110, 'item_layer_5': 110, 'item_layer_6': 116, 'item_layer_7': 120, 'item_dropout_0': 0.2556711994304689, 'item_dropout_1': 0.2507581473435998, 'item_dropout_2': 0.3991475894833876, 'item_dropout_3': 0.3249819653888826, 'item_dropout_4': 0.3509834386288517, 'item_dropout_5': 0.3978963347180505, 'item_dropout_6': 0.44500267090878315, 'item_dropout_7': 0.1689975784257679}. Best is trial 4 with value: 0.04517.\n"
     ]
    }
   ],
   "source": [
    "# set tuner for hyperparam optimization\n",
    "tuner = BayesianSearch(\n",
    "    config[\"optimization\"],\n",
    "    method=\"retrieval\",\n",
    "    algorithm=\"TwoTower\"\n",
    "    )\n",
    "\n",
    "def objective(trial) -> float:\n",
    "    return tuner.fit({\"X\": df_train}, {\"X\": df_valid}, trial, features=features, epochs=5)\n",
    "\n",
    "# set study\n",
    "study = optuna.create_study(\n",
    "    direction=config[\"optimization\"][\"retrieval\"][\"direction\"],\n",
    "    sampler=optuna.samplers.TPESampler(seed=config[\"general\"][\"seed\"])\n",
    "    )\n",
    "study.optimize(objective, n_trials= config[\"optimization\"][\"n_trials\"])\n",
    "\n",
    "del features, df_valid"
   ]
  },
  {
   "cell_type": "markdown",
   "id": "6fc31ae8",
   "metadata": {},
   "source": [
    "**Evaluation & Logging**\n",
    "\n",
    "- Recover full training set to evaluate results on test set\n",
    "- Perform feature engineering\n",
    "- Log run's information through mlflow"
   ]
  },
  {
   "cell_type": "code",
   "execution_count": 8,
   "id": "5480b367",
   "metadata": {},
   "outputs": [],
   "source": [
    "# get anti test-set, i.e., train & validation sets together\n",
    "df_train = dfs[\"data\"].merge(\n",
    "    df_test\n",
    "    , on=df_test.columns.to_list(), how=\"left\"\n",
    "    , indicator=True\n",
    "    )\n",
    "df_train = df_train[df_train[\"_merge\"] == \"left_only\"].drop(columns=[\"_merge\"])"
   ]
  },
  {
   "cell_type": "code",
   "execution_count": 9,
   "id": "cfbe9ded",
   "metadata": {},
   "outputs": [],
   "source": [
    "# build features for ranking model\n",
    "features = feature_engineering(\n",
    "    dataframes={'user': dfs['user'], 'item': dfs['item'], 'data': df_train}\n",
    "    )"
   ]
  },
  {
   "cell_type": "code",
   "execution_count": 10,
   "id": "3bf7f21a",
   "metadata": {},
   "outputs": [],
   "source": [
    "# user and item id mappings\n",
    "mapping = {\n",
    "    \"user\": {uid: i for i, uid in dfs[\"user\"][[\"user_id_encoded\", \"user_id\"]].values},\n",
    "    \"item\": {iid: i for i, iid in enumerate(df_train[\"item_id\"].unique())}\n",
    "}\n",
    "\n",
    "features[\"user\"][\"user_id_encoded\"] = features[\"user\"][\"user_id\"].map(mapping[\"user\"])\n",
    "features[\"user\"] = features[\"user\"].sort_values(\"user_id_encoded\")\n",
    "features[\"item\"][\"item_id_encoded\"] = features[\"item\"][\"item_id\"].map(mapping[\"item\"])\n",
    "features[\"item\"] = features[\"item\"].sort_values(\"item_id_encoded\")\n",
    "\n",
    "df_train[\"item_id_encoded\"] = df_train[\"item_id\"].map(mapping[\"item\"])\n",
    "df_test[\"item_id_encoded\"] = df_test[\"item_id\"].map(mapping[\"item\"])\n",
    "\n",
    "# filter out non existing items from validation\n",
    "df_test = df_test.dropna()\n",
    "df_test[\"item_id_encoded\"] = df_test[\"item_id_encoded\"].astype(int)\n",
    "\n",
    "del mapping"
   ]
  },
  {
   "cell_type": "code",
   "execution_count": 11,
   "id": "ba899d34",
   "metadata": {},
   "outputs": [
    {
     "data": {
      "text/html": [
       "<div>\n",
       "<style scoped>\n",
       "    .dataframe tbody tr th:only-of-type {\n",
       "        vertical-align: middle;\n",
       "    }\n",
       "\n",
       "    .dataframe tbody tr th {\n",
       "        vertical-align: top;\n",
       "    }\n",
       "\n",
       "    .dataframe thead th {\n",
       "        text-align: right;\n",
       "    }\n",
       "</style>\n",
       "<table border=\"1\" class=\"dataframe\">\n",
       "  <thead>\n",
       "    <tr style=\"text-align: right;\">\n",
       "      <th></th>\n",
       "      <th>recall@10</th>\n",
       "      <th>precision@10</th>\n",
       "      <th>hit_rate@10</th>\n",
       "    </tr>\n",
       "    <tr>\n",
       "      <th>dataset</th>\n",
       "      <th></th>\n",
       "      <th></th>\n",
       "      <th></th>\n",
       "    </tr>\n",
       "  </thead>\n",
       "  <tbody>\n",
       "    <tr>\n",
       "      <th>train</th>\n",
       "      <td>0.01423</td>\n",
       "      <td>0.15101</td>\n",
       "      <td>0.61824</td>\n",
       "    </tr>\n",
       "    <tr>\n",
       "      <th>test</th>\n",
       "      <td>0.01166</td>\n",
       "      <td>0.00583</td>\n",
       "      <td>0.05620</td>\n",
       "    </tr>\n",
       "  </tbody>\n",
       "</table>\n",
       "</div>"
      ],
      "text/plain": [
       "         recall@10  precision@10  hit_rate@10\n",
       "dataset                                      \n",
       "train      0.01423       0.15101      0.61824\n",
       "test       0.01166       0.00583      0.05620"
      ]
     },
     "execution_count": 11,
     "metadata": {},
     "output_type": "execute_result"
    }
   ],
   "source": [
    "# set algorithm best hyperparams\n",
    "hyperparams = {}\n",
    "\n",
    "hyperparams[\"user_layers\"] = [\n",
    "    study.best_trial.params[f\"user_layer_{i}\"]\n",
    "    for i in range(study.best_trial.params[\"num_user_layers\"])\n",
    "]\n",
    "hyperparams[\"user_dropout\"] = [\n",
    "    study.best_trial.params[f\"user_dropout_{i}\"]\n",
    "    for i in range(study.best_trial.params[\"num_user_layers\"])\n",
    "]\n",
    "hyperparams[\"item_layers\"] = [\n",
    "    study.best_trial.params[f\"item_layer_{i}\"]\n",
    "    for i in range(study.best_trial.params[\"num_item_layers\"])\n",
    "]\n",
    "hyperparams[\"item_dropout\"] = [\n",
    "    study.best_trial.params[f\"item_dropout_{i}\"]\n",
    "    for i in range(study.best_trial.params[\"num_item_layers\"])\n",
    "]\n",
    "\n",
    "hyperparams[\"embedding_dim\"] = study.best_trial.params[\"embedding_dim\"]\n",
    "hyperparams[\"lr\"] = study.best_trial.params[\"lr\"]\n",
    "\n",
    "hyperparams[\"user_dim\"] = 64\n",
    "hyperparams[\"item_dim\"] = 25\n",
    "\n",
    "# fit model on whole training set\n",
    "clf = Retrieval(algorithm=\"TwoTower\", params=hyperparams)\n",
    "clf.fit(trainset=df_train, features=features, epochs=20)\n",
    "tuner.artifacts[\"models\"][-1] = clf\n",
    "\n",
    "# test set evaluation\n",
    "scorer = Evaluation(clf=clf)\n",
    "tuner.artifacts[\"metrics_test\"] = scorer.fit(train=df_train, test=df_test, k=10, features=features)\n",
    "tuner.artifacts[\"metrics_test\"]"
   ]
  }
 ],
 "metadata": {
  "kernelspec": {
   "display_name": ".venv",
   "language": "python",
   "name": "python3"
  },
  "language_info": {
   "codemirror_mode": {
    "name": "ipython",
    "version": 3
   },
   "file_extension": ".py",
   "mimetype": "text/x-python",
   "name": "python",
   "nbconvert_exporter": "python",
   "pygments_lexer": "ipython3",
   "version": "3.11.9"
  }
 },
 "nbformat": 4,
 "nbformat_minor": 5
}
