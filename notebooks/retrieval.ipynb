{
 "cells": [
  {
   "cell_type": "code",
   "execution_count": null,
   "id": "6fa35c35",
   "metadata": {},
   "outputs": [],
   "source": [
    "import sys\n",
    "import os\n",
    "\n",
    "sys.path.append(os.path.abspath('..'))\n",
    "\n",
    "import yaml\n",
    "import pandas as pd\n",
    "import optuna\n",
    "\n",
    "from src.data.load import load_data\n",
    "from src.data.prepare import prepare_data\n",
    "from src.models.cv_iterator import leave_last_k\n",
    "from src.features.features import feature_engineering\n",
    "from src.models.retrieval import candidate_generation\n",
    "from src.features.utils import build_rank_input\n",
    "from src.models.tuner import BayesianSearch\n",
    "from src.models.ranker import Ranker\n",
    "from src.models.evaluator import evaluation, recs_score"
   ]
  },
  {
   "cell_type": "code",
   "execution_count": null,
   "id": "0cbdb26b",
   "metadata": {},
   "outputs": [],
   "source": [
    "# read config\n",
    "with open('..\\config.yml', 'r') as file:\n",
    "    config=yaml.load(file, Loader= yaml.SafeLoader)\n",
    "del file"
   ]
  },
  {
   "cell_type": "code",
   "execution_count": null,
   "id": "de3ceb8d",
   "metadata": {},
   "outputs": [],
   "source": [
    "# load and prepare data\n",
    "dfs = load_data(config=config['data_loader'])\n",
    "dfs = prepare_data(dataframes=dfs)"
   ]
  },
  {
   "cell_type": "code",
   "execution_count": null,
   "id": "bbe7e5ce",
   "metadata": {},
   "outputs": [],
   "source": [
    "# train-test split\n",
    "df_train, df_test = leave_last_k(df=dfs['data'], config=config['optimization'])\n",
    "df_train, df_valid = leave_last_k(df=df_train, config=config['optimization'])"
   ]
  },
  {
   "cell_type": "markdown",
   "id": "23eb620d",
   "metadata": {},
   "source": [
    "**Model Building**\n",
    "- Candidate Generation: in addition to the existing observations, it retrieves items that a user might like/dislike it (negative sampling)\n",
    "- Feature Engineering: creates cross user-item features for ranking model\n",
    "- Hyper-parameter Tunning: searches best hyper-parameters to maximize evaluation metric"
   ]
  },
  {
   "cell_type": "code",
   "execution_count": null,
   "id": "30a6cf52",
   "metadata": {},
   "outputs": [],
   "source": []
  },
  {
   "cell_type": "code",
   "execution_count": null,
   "id": "442d5f43",
   "metadata": {},
   "outputs": [],
   "source": [
    "# generate candidates through negative sampling\n",
    "candidates = candidate_generation(df_train, config['optimization']['retrieval'])\n",
    "df_train = pd.concat([df_train.iloc[:,:3], candidates['positive'], candidates['negative']], ignore_index=True)\n",
    "\n",
    "del candidates"
   ]
  },
  {
   "cell_type": "code",
   "execution_count": null,
   "id": "d85b542f",
   "metadata": {},
   "outputs": [],
   "source": [
    "# build features for ranking model\n",
    "user_item_features = feature_engineering(\n",
    "    dataframes={'user': dfs['user'], 'item': dfs['item'], 'data': df_train}\n",
    "    )\n",
    "\n",
    "df_train, df_valid = [\n",
    "    build_rank_input(ratings=df.iloc[:,:3], features=user_item_features)\n",
    "    for df in (df_train, df_valid)\n",
    "    ]\n",
    "\n",
    "del user_item_features"
   ]
  },
  {
   "cell_type": "code",
   "execution_count": null,
   "id": "bc2fdc26",
   "metadata": {},
   "outputs": [],
   "source": [
    "# hyper-parameter tunning through bayesian search\n",
    "searcher = BayesianSearch(config['optimization']['hyper_params'], algorithm='XGBRanker')\n",
    "\n",
    "def objective(trial) -> float:\n",
    "    return searcher.fit(df_train, df_valid, trial)\n",
    "\n",
    "study = optuna.create_study(direction='maximize')\n",
    "study.optimize(objective, n_trials=20)\n",
    "\n",
    "print(\"Best trial:\\n\", study.best_trial.params)\n",
    "del searcher"
   ]
  },
  {
   "cell_type": "markdown",
   "id": "96271074",
   "metadata": {},
   "source": [
    "**Evaluation**\n",
    "- Use best hyper-params to train on previous train and validation sets\n",
    "- Check model accuracy on test set"
   ]
  },
  {
   "cell_type": "code",
   "execution_count": null,
   "id": "9039a41b",
   "metadata": {},
   "outputs": [],
   "source": [
    "# get anti test-set, i.e., train & validation sets together\n",
    "df_train = dfs['data'].merge(\n",
    "    df_test\n",
    "    , on=['user_id', 'item_id', 'rating'], how='left'\n",
    "    , indicator=True\n",
    "    )\n",
    "df_train = df_train[df_train['_merge'] == 'left_only'].drop(columns=['_merge'])"
   ]
  },
  {
   "cell_type": "code",
   "execution_count": null,
   "id": "56ac30fc",
   "metadata": {},
   "outputs": [],
   "source": [
    "# generate candidates\n",
    "candidates = candidate_generation(df_train, config['optimization']['retrieval'])\n",
    "df_train_ = pd.concat([df_train.iloc[:,:3], candidates['positive'], candidates['negative']], ignore_index=True)\n",
    "\n",
    "del candidates"
   ]
  },
  {
   "cell_type": "code",
   "execution_count": null,
   "id": "39b622ca",
   "metadata": {},
   "outputs": [],
   "source": [
    "# create features for ranking model\n",
    "user_item_features = feature_engineering(\n",
    "    dataframes={'user': dfs['user'], 'item': dfs['item'], 'data': df_train_}\n",
    "    )\n",
    "\n",
    "df_train_, df_test_ = [\n",
    "    build_rank_input(ratings=df.iloc[:,:3], features=user_item_features) for df in (df_train_, df_test)\n",
    "    ]\n",
    "\n",
    "del user_item_features"
   ]
  },
  {
   "cell_type": "code",
   "execution_count": null,
   "id": "bbc255b0",
   "metadata": {},
   "outputs": [],
   "source": [
    "clf = Ranker(algorithm='XGBRanker', params=study.best_trial.params)\n",
    "clf.fit(\n",
    "    df_train_['X'], df_train_['y']\n",
    "    , group=df_train_['group']\n",
    "    )\n",
    "\n",
    "preds = clf.predict(df_test_['X'])\n",
    "\n",
    "print(f\"NDCG: {evaluation(df_test_['y'], preds, df_test_['group'])}\")\n",
    "\n",
    "# shouldn't be done with test set\n",
    "# recs_score(df_test.iloc[:, :2], df_train.iloc[:, :3])"
   ]
  }
 ],
 "metadata": {
  "kernelspec": {
   "display_name": ".venv",
   "language": "python",
   "name": "python3"
  },
  "language_info": {
   "codemirror_mode": {
    "name": "ipython",
    "version": 3
   },
   "file_extension": ".py",
   "mimetype": "text/x-python",
   "name": "python",
   "nbconvert_exporter": "python",
   "pygments_lexer": "ipython3",
   "version": "3.11.9"
  }
 },
 "nbformat": 4,
 "nbformat_minor": 5
}
