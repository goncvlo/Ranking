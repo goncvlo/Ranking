{
 "cells": [
  {
   "cell_type": "code",
   "execution_count": 1,
   "id": "6fa35c35",
   "metadata": {},
   "outputs": [],
   "source": [
    "import sys\n",
    "import os\n",
    "\n",
    "sys.path.append(os.path.abspath('..'))\n",
    "\n",
    "import yaml\n",
    "import pandas as pd\n",
    "import optuna\n",
    "\n",
    "from src.data.load import load_data\n",
    "from src.data.prepare import prepare_data\n",
    "from src.models.tuner import BayesianSearch\n",
    "from src.models.retrieval import Retrieval\n",
    "from src.models.evaluator import Evaluation\n",
    "from src.models.tracker import launch_mlflow, log_run\n",
    "from src.models.utils import leave_last_k, set_global_seed"
   ]
  },
  {
   "cell_type": "code",
   "execution_count": 2,
   "id": "0cbdb26b",
   "metadata": {},
   "outputs": [],
   "source": [
    "# read config\n",
    "with open('config.yml', 'r') as file:\n",
    "    config=yaml.load(file, Loader= yaml.SafeLoader)\n",
    "del file\n",
    "\n",
    "# ensure reproducibility\n",
    "set_global_seed(seed=config[\"general\"][\"seed\"])\n",
    "\n",
    "# set experiment tracking\n",
    "launch_mlflow()\n",
    "\n",
    "# set algorithm\n",
    "ALGORITHM = \"SVD\""
   ]
  },
  {
   "cell_type": "markdown",
   "id": "b7e8c7b6",
   "metadata": {},
   "source": [
    "**Data Preparation & Train/Test Split**\n",
    "\n",
    "- Load and transform the 3 datasets\n",
    "- Split whole set into train, validation and test sets by segmenting it temporally"
   ]
  },
  {
   "cell_type": "code",
   "execution_count": 3,
   "id": "de3ceb8d",
   "metadata": {},
   "outputs": [],
   "source": [
    "# load and prepare data\n",
    "dfs = load_data(config=config['data_loader'])\n",
    "dfs = prepare_data(dataframes=dfs, config=config[\"data_preparation\"])"
   ]
  },
  {
   "cell_type": "code",
   "execution_count": 4,
   "id": "bbe7e5ce",
   "metadata": {},
   "outputs": [],
   "source": [
    "# train-test split\n",
    "df_train, df_test = leave_last_k(df=dfs['data'], config=config['optimization'])\n",
    "df_train, df_valid = leave_last_k(df=df_train, config=config['optimization'])"
   ]
  },
  {
   "cell_type": "markdown",
   "id": "23eb620d",
   "metadata": {},
   "source": [
    "**Optimization & Evaluation**\n",
    "\n",
    "- Hyper-parameters - search which hyper-parameters optimize scoring metric for the given algorithm in the validation set\n",
    "- Evaluation - retrieve best hyper-parameters and recover full training set to evaluate results on test set"
   ]
  },
  {
   "cell_type": "code",
   "execution_count": 5,
   "id": "bc2fdc26",
   "metadata": {},
   "outputs": [
    {
     "name": "stderr",
     "output_type": "stream",
     "text": [
      "[I 2025-07-07 20:30:23,122] A new study created in memory with name: no-name-429bf8d1-2682-43a5-b654-bf1550ba915e\n",
      "[I 2025-07-07 20:30:29,652] Trial 0 finished with value: 0.00021 and parameters: {'n_factors': 87, 'n_epochs': 25, 'lr_bu': 0.36626497696389115, 'lr_bi': 0.29973058361432126, 'lr_pu': 0.07885330158077582, 'lr_qi': 0.07884126564776513, 'reg_bu': 0.03846096996241773, 'reg_bi': 0.4344263114297182, 'reg_pu': 0.3045463557541723, 'reg_qi': 0.35695556312006227}. Best is trial 0 with value: 0.00021.\n",
      "[I 2025-07-07 20:30:35,731] Trial 1 finished with value: 0.00021 and parameters: {'n_factors': 52, 'n_epochs': 25, 'lr_bu': 0.41638887775941047, 'lr_bi': 0.1069572162284598, 'lr_pu': 0.0917306586363432, 'lr_qi': 0.09251885041686347, 'reg_bu': 0.1590786990501735, 'reg_bi': 0.26713065149979653, 'reg_pu': 0.22165305913463673, 'reg_qi': 0.15270227869704053}. Best is trial 0 with value: 0.00021.\n",
      "[I 2025-07-07 20:30:40,099] Trial 2 finished with value: 0.00191 and parameters: {'n_factors': 111, 'n_epochs': 16, 'lr_bu': 0.14678017961907386, 'lr_bi': 0.18381455980355216, 'lr_pu': 0.22857892212430092, 'lr_qi': 0.3928028047351138, 'reg_bu': 0.10784015325759626, 'reg_bi': 0.2619748748226697, 'reg_pu': 0.3002831387424008, 'reg_qi': 0.03276070223279889}. Best is trial 2 with value: 0.00191.\n",
      "[I 2025-07-07 20:30:44,926] Trial 3 finished with value: 0.00064 and parameters: {'n_factors': 111, 'n_epochs': 16, 'lr_bu': 0.033460744899654477, 'lr_bi': 0.4744938830894133, 'lr_pu': 0.48285038450420514, 'lr_qi': 0.4043902767101141, 'reg_bu': 0.15926074689495165, 'reg_bi': 0.057859335863128095, 'reg_pu': 0.34527418299095686, 'reg_qi': 0.22567472193240465}. Best is trial 2 with value: 0.00191.\n",
      "[I 2025-07-07 20:30:50,604] Trial 4 finished with value: 0.00106 and parameters: {'n_factors': 62, 'n_epochs': 20, 'lr_bu': 0.018159872036493982, 'lr_bi': 0.4547508806373122, 'lr_pu': 0.13013121081840845, 'lr_qi': 0.331598619892637, 'reg_bu': 0.16273842728381138, 'reg_bi': 0.2648333303771273, 'reg_pu': 0.277888036878207, 'reg_qi': 0.10057868320750825}. Best is trial 2 with value: 0.00191.\n",
      "[I 2025-07-07 20:30:55,561] Trial 5 finished with value: 0.0 and parameters: {'n_factors': 147, 'n_epochs': 23, 'lr_bu': 0.46980997184053036, 'lr_bi': 0.44751884786339674, 'lr_pu': 0.29935208942673147, 'lr_qi': 0.4610152432765353, 'reg_bu': 0.05336132600544055, 'reg_bi': 0.10603160258538114, 'reg_pu': 0.03216137156616365, 'reg_qi': 0.16941186207399953}. Best is trial 2 with value: 0.00191.\n",
      "[I 2025-07-07 20:31:00,172] Trial 6 finished with value: 0.00021 and parameters: {'n_factors': 89, 'n_epochs': 17, 'lr_bu': 0.41454001706681276, 'lr_bi': 0.17901991002010106, 'lr_pu': 0.141186320334003, 'lr_qi': 0.27180534549596597, 'reg_bu': 0.07905287023763369, 'reg_bi': 0.40307652056947946, 'reg_pu': 0.046529815403087704, 'reg_qi': 0.4935745989342535}. Best is trial 2 with value: 0.00191.\n",
      "[I 2025-07-07 20:31:05,435] Trial 7 finished with value: 0.00445 and parameters: {'n_factors': 127, 'n_epochs': 17, 'lr_bu': 0.003755536444677597, 'lr_bi': 0.40791525279896224, 'lr_pu': 0.35372181457996094, 'lr_qi': 0.3647745768524527, 'reg_bu': 0.3879224698761134, 'reg_bi': 0.04628187934970428, 'reg_pu': 0.1856482069866936, 'reg_qi': 0.06677583916731356}. Best is trial 7 with value: 0.00445.\n",
      "[I 2025-07-07 20:31:12,107] Trial 8 finished with value: 0.00021 and parameters: {'n_factors': 137, 'n_epochs': 21, 'lr_bu': 0.16611811440147195, 'lr_bi': 0.0327156167927258, 'lr_pu': 0.15618017853611543, 'lr_qi': 0.16326647769134678, 'reg_bu': 0.3675070273856514, 'reg_bi': 0.3224031609640544, 'reg_pu': 0.4447342438624, 'reg_qi': 0.24138531332935517}. Best is trial 7 with value: 0.00445.\n",
      "[I 2025-07-07 20:31:18,397] Trial 9 finished with value: 0.0 and parameters: {'n_factors': 62, 'n_epochs': 22, 'lr_bu': 0.38063173925983185, 'lr_bi': 0.28107732158717863, 'lr_pu': 0.38571262279732593, 'lr_qi': 0.24740400258583098, 'reg_bu': 0.2661390863971771, 'reg_bi': 0.21949509899568934, 'reg_pu': 0.022455372104606644, 'reg_qi': 0.06286679922671917}. Best is trial 7 with value: 0.00445.\n"
     ]
    }
   ],
   "source": [
    "# set tuner for hyperparam optimization\n",
    "tuner = BayesianSearch(\n",
    "    config[\"optimization\"],\n",
    "    method=\"retrieval\",\n",
    "    algorithm=ALGORITHM\n",
    "    )\n",
    "\n",
    "def objective(trial) -> float:\n",
    "    return tuner.fit(df_train={\"X\": df_train}, df_valid={\"X\": df_valid}, trial=trial)\n",
    "\n",
    "# set study\n",
    "study = optuna.create_study(\n",
    "    direction=\"maximize\",\n",
    "    sampler=optuna.samplers.TPESampler(seed=config[\"general\"][\"seed\"])\n",
    "    )\n",
    "study.optimize(objective, n_trials=config[\"optimization\"][\"n_trials\"])"
   ]
  },
  {
   "cell_type": "code",
   "execution_count": 6,
   "id": "30a6cf52",
   "metadata": {},
   "outputs": [
    {
     "data": {
      "text/html": [
       "<div>\n",
       "<style scoped>\n",
       "    .dataframe tbody tr th:only-of-type {\n",
       "        vertical-align: middle;\n",
       "    }\n",
       "\n",
       "    .dataframe tbody tr th {\n",
       "        vertical-align: top;\n",
       "    }\n",
       "\n",
       "    .dataframe thead th {\n",
       "        text-align: right;\n",
       "    }\n",
       "</style>\n",
       "<table border=\"1\" class=\"dataframe\">\n",
       "  <thead>\n",
       "    <tr style=\"text-align: right;\">\n",
       "      <th></th>\n",
       "      <th>rmse</th>\n",
       "      <th>mse</th>\n",
       "      <th>mae</th>\n",
       "      <th>fcp</th>\n",
       "      <th>recall@10</th>\n",
       "      <th>precision@10</th>\n",
       "      <th>hit_rate@10</th>\n",
       "    </tr>\n",
       "    <tr>\n",
       "      <th>dataset</th>\n",
       "      <th></th>\n",
       "      <th></th>\n",
       "      <th></th>\n",
       "      <th></th>\n",
       "      <th></th>\n",
       "      <th></th>\n",
       "      <th></th>\n",
       "    </tr>\n",
       "  </thead>\n",
       "  <tbody>\n",
       "    <tr>\n",
       "      <th>train</th>\n",
       "      <td>0.71255</td>\n",
       "      <td>0.50773</td>\n",
       "      <td>0.57106</td>\n",
       "      <td>0.66707</td>\n",
       "      <td>-1.00000</td>\n",
       "      <td>-1.00000</td>\n",
       "      <td>-1.00000</td>\n",
       "    </tr>\n",
       "    <tr>\n",
       "      <th>test</th>\n",
       "      <td>0.74085</td>\n",
       "      <td>0.54886</td>\n",
       "      <td>0.59128</td>\n",
       "      <td>0.56279</td>\n",
       "      <td>0.00276</td>\n",
       "      <td>0.00138</td>\n",
       "      <td>0.01379</td>\n",
       "    </tr>\n",
       "  </tbody>\n",
       "</table>\n",
       "</div>"
      ],
      "text/plain": [
       "            rmse      mse      mae      fcp  recall@10  precision@10  \\\n",
       "dataset                                                                \n",
       "train    0.71255  0.50773  0.57106  0.66707   -1.00000      -1.00000   \n",
       "test     0.74085  0.54886  0.59128  0.56279    0.00276       0.00138   \n",
       "\n",
       "         hit_rate@10  \n",
       "dataset               \n",
       "train       -1.00000  \n",
       "test         0.01379  "
      ]
     },
     "execution_count": 6,
     "metadata": {},
     "output_type": "execute_result"
    }
   ],
   "source": [
    "# set algorithm best hyperparams\n",
    "hyperparams = (\n",
    "    config[\"optimization\"][\"retrieval\"][ALGORITHM][\"fixed\"]\n",
    "    | study.best_trial.params\n",
    ")\n",
    "\n",
    "if ALGORITHM==\"KNNWithMeans\":\n",
    "    # merge hyperparams in sim_options param\n",
    "    sim_options = {\n",
    "        \"name\": hyperparams[\"name\"]\n",
    "        , \"user_based\": hyperparams[\"user_based\"]\n",
    "        , \"min_support\": hyperparams[\"min_support\"]\n",
    "    }\n",
    "\n",
    "    del hyperparams[\"name\"], hyperparams[\"user_based\"], hyperparams[\"min_support\"]\n",
    "    hyperparams[\"sim_options\"] = sim_options\n",
    "\n",
    "# fit model on whole training set\n",
    "df_train = pd.concat([df_train, df_valid]).reset_index(drop=True)\n",
    "clf = Retrieval(algorithm=ALGORITHM, params=hyperparams)\n",
    "clf.fit(trainset=df_train)\n",
    "tuner.artifacts[\"models\"][-1] = clf\n",
    "\n",
    "# test set evaluation\n",
    "scorer = Evaluation(clf=clf)\n",
    "tuner.artifacts[\"test_evaluation\"] = scorer.fit(train=df_train, test=df_test)\n",
    "tuner.artifacts[\"test_evaluation\"]"
   ]
  },
  {
   "cell_type": "code",
   "execution_count": 7,
   "id": "8401595f",
   "metadata": {},
   "outputs": [
    {
     "name": "stdout",
     "output_type": "stream",
     "text": [
      "🏃 View run 07JUL2025 at: http://127.0.0.1:5000/#/experiments/992590219418744088/runs/21e560493f334d54838246aa9aa22ae5\n",
      "🧪 View experiment at: http://127.0.0.1:5000/#/experiments/992590219418744088\n",
      "🏃 View run SVD at: http://127.0.0.1:5000/#/experiments/992590219418744088/runs/1bcb11830a5c41caa38086267fd9ca24\n",
      "🧪 View experiment at: http://127.0.0.1:5000/#/experiments/992590219418744088\n"
     ]
    }
   ],
   "source": [
    "# logging experiment\n",
    "log_run(experiment_name=\"Retrieval\", study=study, tuner=tuner)"
   ]
  }
 ],
 "metadata": {
  "kernelspec": {
   "display_name": ".venv",
   "language": "python",
   "name": "python3"
  },
  "language_info": {
   "codemirror_mode": {
    "name": "ipython",
    "version": 3
   },
   "file_extension": ".py",
   "mimetype": "text/x-python",
   "name": "python",
   "nbconvert_exporter": "python",
   "pygments_lexer": "ipython3",
   "version": "3.11.9"
  }
 },
 "nbformat": 4,
 "nbformat_minor": 5
}
