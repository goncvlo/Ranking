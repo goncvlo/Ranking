{
 "cells": [
  {
   "cell_type": "code",
   "execution_count": null,
   "id": "6fa35c35",
   "metadata": {},
   "outputs": [],
   "source": [
    "import sys\n",
    "import os\n",
    "\n",
    "sys.path.append(os.path.abspath('..'))\n",
    "\n",
    "import yaml\n",
    "import pandas as pd\n",
    "import optuna\n",
    "\n",
    "from src.data.load import load_data\n",
    "from src.data.prepare import prepare_data\n",
    "from src.models.cv_iterator import leave_last_k\n",
    "from src.models.tuner import BayesianSearch\n",
    "from src.models.retrieval import Retrieval\n",
    "from src.models.evaluator import Evaluation\n",
    "from src.models.tracker import launch_mlflow, log_run\n",
    "from src.models.utils import set_global_seed"
   ]
  },
  {
   "cell_type": "code",
   "execution_count": 8,
   "id": "0cbdb26b",
   "metadata": {},
   "outputs": [],
   "source": [
    "# read config\n",
    "with open('config.yml', 'r') as file:\n",
    "    config=yaml.load(file, Loader= yaml.SafeLoader)\n",
    "del file\n",
    "\n",
    "# ensure reproducibility\n",
    "set_global_seed(seed=config[\"general\"][\"seed\"])\n",
    "\n",
    "# set experiment tracking\n",
    "launch_mlflow()\n",
    "\n",
    "# set algorithm\n",
    "ALGORITHM = \"CoClustering\""
   ]
  },
  {
   "cell_type": "markdown",
   "id": "b7e8c7b6",
   "metadata": {},
   "source": [
    "**Data Preparation & Train/Test Split**\n",
    "\n",
    "- Load and transform the 3 datasets\n",
    "- Split whole set into train, validation and test sets by segmenting it temporally"
   ]
  },
  {
   "cell_type": "code",
   "execution_count": 9,
   "id": "de3ceb8d",
   "metadata": {},
   "outputs": [],
   "source": [
    "# load and prepare data\n",
    "dfs = load_data(config=config['data_loader'])\n",
    "dfs = prepare_data(dataframes=dfs)"
   ]
  },
  {
   "cell_type": "code",
   "execution_count": 10,
   "id": "bbe7e5ce",
   "metadata": {},
   "outputs": [],
   "source": [
    "# train-test split\n",
    "df_train, df_test = leave_last_k(df=dfs['data'], config=config['optimization'])\n",
    "df_train, df_valid = leave_last_k(df=df_train, config=config['optimization'])"
   ]
  },
  {
   "cell_type": "markdown",
   "id": "23eb620d",
   "metadata": {},
   "source": [
    "**Optimization & Evaluation**\n",
    "\n",
    "- Hyper-parameters - search which hyper-parameters optimize scoring metric for the given algorithm in the validation set\n",
    "- Evaluation - retrieve best hyper-parameters and recover full training set to evaluate results on test set"
   ]
  },
  {
   "cell_type": "code",
   "execution_count": 11,
   "id": "bc2fdc26",
   "metadata": {},
   "outputs": [
    {
     "name": "stderr",
     "output_type": "stream",
     "text": [
      "[I 2025-06-30 23:18:16,490] A new study created in memory with name: no-name-594e2120-8ae1-4f31-8bf9-7fb820830584\n",
      "[I 2025-06-30 23:18:25,299] Trial 0 finished with value: 0.72772 and parameters: {'n_cltr_u': 5, 'n_cltr_i': 9, 'n_epochs': 23}. Best is trial 0 with value: 0.72772.\n",
      "[I 2025-06-30 23:18:32,005] Trial 1 finished with value: 0.72085 and parameters: {'n_cltr_u': 7, 'n_cltr_i': 4, 'n_epochs': 16}. Best is trial 1 with value: 0.72085.\n",
      "[I 2025-06-30 23:18:39,208] Trial 2 finished with value: 0.71839 and parameters: {'n_cltr_u': 3, 'n_cltr_i': 9, 'n_epochs': 21}. Best is trial 2 with value: 0.71839.\n",
      "[I 2025-06-30 23:18:52,231] Trial 3 finished with value: 0.72408 and parameters: {'n_cltr_u': 7, 'n_cltr_i': 3, 'n_epochs': 25}. Best is trial 2 with value: 0.71839.\n",
      "[I 2025-06-30 23:19:06,874] Trial 4 finished with value: 0.7214 and parameters: {'n_cltr_u': 8, 'n_cltr_i': 4, 'n_epochs': 17}. Best is trial 2 with value: 0.71839.\n",
      "[I 2025-06-30 23:19:21,354] Trial 5 finished with value: 0.72569 and parameters: {'n_cltr_u': 4, 'n_cltr_i': 5, 'n_epochs': 20}. Best is trial 2 with value: 0.71839.\n",
      "[I 2025-06-30 23:19:37,248] Trial 6 finished with value: 0.72433 and parameters: {'n_cltr_u': 6, 'n_cltr_i': 5, 'n_epochs': 21}. Best is trial 2 with value: 0.71839.\n",
      "[I 2025-06-30 23:19:52,162] Trial 7 finished with value: 0.71884 and parameters: {'n_cltr_u': 3, 'n_cltr_i': 5, 'n_epochs': 19}. Best is trial 2 with value: 0.71839.\n",
      "[I 2025-06-30 23:20:08,719] Trial 8 finished with value: 0.7224 and parameters: {'n_cltr_u': 6, 'n_cltr_i': 8, 'n_epochs': 17}. Best is trial 2 with value: 0.71839.\n",
      "[I 2025-06-30 23:20:23,945] Trial 9 finished with value: 0.72209 and parameters: {'n_cltr_u': 6, 'n_cltr_i': 7, 'n_epochs': 15}. Best is trial 2 with value: 0.71839.\n"
     ]
    },
    {
     "name": "stdout",
     "output_type": "stream",
     "text": [
      "🏃 View run 30JUN2025 at: http://127.0.0.1:5000/#/experiments/590389134111182764/runs/26be667e374b43879d6b1d638d178fa7\n",
      "🧪 View experiment at: http://127.0.0.1:5000/#/experiments/590389134111182764\n",
      "🏃 View run CoClustering at: http://127.0.0.1:5000/#/experiments/590389134111182764/runs/6918486cff5e42798caef9e458523acd\n",
      "🧪 View experiment at: http://127.0.0.1:5000/#/experiments/590389134111182764\n"
     ]
    }
   ],
   "source": [
    "# set tuner for hyperparam optimization\n",
    "tuner = BayesianSearch(\n",
    "    config[\"optimization\"],\n",
    "    method=\"retrieval\",\n",
    "    algorithm=ALGORITHM\n",
    "    )\n",
    "\n",
    "def objective(trial) -> float:\n",
    "    return tuner.fit(df_train={\"X\": df_train}, df_valid={\"X\": df_valid}, trial=trial)\n",
    "\n",
    "# set study\n",
    "study = optuna.create_study(\n",
    "    direction=\"minimize\",\n",
    "    sampler=optuna.samplers.TPESampler(seed=config[\"general\"][\"seed\"])\n",
    "    )\n",
    "study.optimize(objective, n_trials=config[\"optimization\"][\"n_trials\"])\n",
    "\n",
    "# logging experiment\n",
    "log_run(experiment_name=\"Retrieval\", study=study, tuner=tuner)"
   ]
  },
  {
   "cell_type": "code",
   "execution_count": 12,
   "id": "30a6cf52",
   "metadata": {},
   "outputs": [
    {
     "data": {
      "text/html": [
       "<div>\n",
       "<style scoped>\n",
       "    .dataframe tbody tr th:only-of-type {\n",
       "        vertical-align: middle;\n",
       "    }\n",
       "\n",
       "    .dataframe tbody tr th {\n",
       "        vertical-align: top;\n",
       "    }\n",
       "\n",
       "    .dataframe thead th {\n",
       "        text-align: right;\n",
       "    }\n",
       "</style>\n",
       "<table border=\"1\" class=\"dataframe\">\n",
       "  <thead>\n",
       "    <tr style=\"text-align: right;\">\n",
       "      <th></th>\n",
       "      <th>rmse</th>\n",
       "      <th>mse</th>\n",
       "      <th>mae</th>\n",
       "      <th>fcp</th>\n",
       "    </tr>\n",
       "    <tr>\n",
       "      <th>dataset</th>\n",
       "      <th></th>\n",
       "      <th></th>\n",
       "      <th></th>\n",
       "      <th></th>\n",
       "    </tr>\n",
       "  </thead>\n",
       "  <tbody>\n",
       "    <tr>\n",
       "      <th>train</th>\n",
       "      <td>0.63957</td>\n",
       "      <td>0.40905</td>\n",
       "      <td>0.50967</td>\n",
       "      <td>0.75416</td>\n",
       "    </tr>\n",
       "    <tr>\n",
       "      <th>test</th>\n",
       "      <td>0.69051</td>\n",
       "      <td>0.47681</td>\n",
       "      <td>0.54682</td>\n",
       "      <td>0.61261</td>\n",
       "    </tr>\n",
       "  </tbody>\n",
       "</table>\n",
       "</div>"
      ],
      "text/plain": [
       "            rmse      mse      mae      fcp\n",
       "dataset                                    \n",
       "train    0.63957  0.40905  0.50967  0.75416\n",
       "test     0.69051  0.47681  0.54682  0.61261"
      ]
     },
     "execution_count": 12,
     "metadata": {},
     "output_type": "execute_result"
    }
   ],
   "source": [
    "# set algorithm best hyperparams\n",
    "hyperparams = (\n",
    "    config[\"optimization\"][\"retrieval\"][ALGORITHM][\"fixed\"]\n",
    "    | study.best_trial.params\n",
    ")\n",
    "\n",
    "# fit model on whole training set\n",
    "df_train = pd.concat([df_train, df_valid]).reset_index(drop=True)\n",
    "clf = Retrieval(algorithm=ALGORITHM, params=hyperparams)\n",
    "clf.fit(trainset=df_train)\n",
    "\n",
    "# test set evaluation\n",
    "scorer = Evaluation(clf=clf)\n",
    "scorer.fit(train=df_train, test=df_test)"
   ]
  }
 ],
 "metadata": {
  "kernelspec": {
   "display_name": ".venv",
   "language": "python",
   "name": "python3"
  },
  "language_info": {
   "codemirror_mode": {
    "name": "ipython",
    "version": 3
   },
   "file_extension": ".py",
   "mimetype": "text/x-python",
   "name": "python",
   "nbconvert_exporter": "python",
   "pygments_lexer": "ipython3",
   "version": "3.11.9"
  }
 },
 "nbformat": 4,
 "nbformat_minor": 5
}
