{
 "cells": [
  {
   "cell_type": "code",
   "execution_count": 1,
   "id": "4e3dde2a",
   "metadata": {},
   "outputs": [],
   "source": [
    "import sys\n",
    "import os\n",
    "\n",
    "sys.path.append(os.path.abspath('..'))\n",
    "\n",
    "import yaml\n",
    "import pandas as pd\n",
    "import joblib\n",
    "\n",
    "from src.data.load import load_data\n",
    "from src.data.prepare import prepare_data\n",
    "from src.features.features import feature_engineering\n",
    "from src.features.utils import build_rank_input\n",
    "from src.models.ranker import Ranker\n",
    "from src.models.retrieval import Retrieval\n",
    "from src.models.co_visit import CoVisit\n",
    "from src.models.baseline import popular_items\n",
    "from src.models.utils import set_global_seed"
   ]
  },
  {
   "cell_type": "markdown",
   "id": "9392ce25",
   "metadata": {},
   "source": [
    "**Config & Data Preparation**\n",
    "\n",
    "- Read project configurations and settings\n",
    "- Load and transform the 3 datasets"
   ]
  },
  {
   "cell_type": "code",
   "execution_count": 2,
   "id": "39b48be2",
   "metadata": {},
   "outputs": [],
   "source": [
    "# read config\n",
    "with open('../main/config.yml', 'r') as file:\n",
    "    config=yaml.load(file, Loader= yaml.SafeLoader)\n",
    "del file\n",
    "\n",
    "# ensure reproducibility\n",
    "set_global_seed(seed=config[\"general\"][\"seed\"])"
   ]
  },
  {
   "cell_type": "code",
   "execution_count": 3,
   "id": "d9fc2f48",
   "metadata": {},
   "outputs": [],
   "source": [
    "# load and prepare data\n",
    "config[\"data_loader\"][\"path\"] = \"../\" + config[\"data_loader\"][\"path\"]\n",
    "dfs = load_data(config=config['data_loader'])\n",
    "dfs = prepare_data(dataframes=dfs, config=config[\"data_preparation\"])"
   ]
  },
  {
   "cell_type": "markdown",
   "id": "379def62",
   "metadata": {},
   "source": [
    "**Inference**\n",
    "\n",
    "- Load models and get candidates\n",
    "- Rank candidates"
   ]
  },
  {
   "cell_type": "code",
   "execution_count": 4,
   "id": "b1d9c63f",
   "metadata": {},
   "outputs": [],
   "source": [
    "candidates = CoVisit(methods=[\"directional\"], k=50).fit(ui_matrix=dfs[\"data\"])\n",
    "candidates = candidates.rename(columns={\"score\": \"rating\"})\n",
    "candidates[\"rating\"] = candidates[\"rating\"].round()"
   ]
  },
  {
   "cell_type": "code",
   "execution_count": 5,
   "id": "0de3f60e",
   "metadata": {},
   "outputs": [],
   "source": [
    "user_item_features = feature_engineering(dataframes=dfs)\n",
    "df = build_rank_input(ratings=candidates, features=user_item_features)"
   ]
  },
  {
   "cell_type": "code",
   "execution_count": 6,
   "id": "90b40422",
   "metadata": {},
   "outputs": [],
   "source": [
    "for algorithm in config[\"train\"][\"ranker\"].keys():\n",
    "\n",
    "    # load model and get candidates\n",
    "    clf = joblib.load(f'../main/artifacts/{algorithm}.joblib')\n",
    "    clf.predict(X=df[\"X\"])"
   ]
  }
 ],
 "metadata": {
  "kernelspec": {
   "display_name": ".venv",
   "language": "python",
   "name": "python3"
  },
  "language_info": {
   "codemirror_mode": {
    "name": "ipython",
    "version": 3
   },
   "file_extension": ".py",
   "mimetype": "text/x-python",
   "name": "python",
   "nbconvert_exporter": "python",
   "pygments_lexer": "ipython3",
   "version": "3.11.9"
  }
 },
 "nbformat": 4,
 "nbformat_minor": 5
}
