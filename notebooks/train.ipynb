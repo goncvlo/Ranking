{
 "cells": [
  {
   "cell_type": "code",
   "execution_count": 1,
   "id": "1b86a67a",
   "metadata": {},
   "outputs": [],
   "source": [
    "import sys\n",
    "import os\n",
    "\n",
    "sys.path.append(os.path.abspath('..'))\n",
    "\n",
    "import yaml\n",
    "import pandas as pd\n",
    "import optuna\n",
    "from datetime import datetime\n",
    "import mlflow\n",
    "\n",
    "from src.data.load import load_data\n",
    "from src.data.prepare import prepare_data\n",
    "from src.features.features import feature_engineering\n",
    "from src.features.utils import build_rank_input\n",
    "from src.models.ranker import Ranker\n",
    "from src.models.retrieval import Retrieval\n",
    "from src.models.co_visit import CoVisit\n",
    "from src.models.baseline import popular_items\n",
    "from src.models.tracker import launch_mlflow, Logging, load_params, get_run\n",
    "from src.models.utils import set_global_seed"
   ]
  },
  {
   "cell_type": "markdown",
   "id": "06ddb1c4",
   "metadata": {},
   "source": [
    "**Config & Data Preparation**\n",
    "\n",
    "- Read project configurations and settings\n",
    "- Load and transform the 3 datasets"
   ]
  },
  {
   "cell_type": "code",
   "execution_count": 2,
   "id": "7fc9a863",
   "metadata": {},
   "outputs": [],
   "source": [
    "# read config\n",
    "with open('config.yml', 'r') as file:\n",
    "    config=yaml.load(file, Loader= yaml.SafeLoader)\n",
    "del file\n",
    "\n",
    "# ensure reproducibility\n",
    "set_global_seed(seed=config[\"general\"][\"seed\"])\n",
    "\n",
    "# set experiment tracking\n",
    "launch_mlflow()\n",
    "\n",
    "# set params\n",
    "experiment_name = \"Training\"\n",
    "negative_sample_k = 15"
   ]
  },
  {
   "cell_type": "code",
   "execution_count": 3,
   "id": "d6198ed8",
   "metadata": {},
   "outputs": [],
   "source": [
    "# load and prepare data\n",
    "dfs = load_data(config=config['data_loader'])\n",
    "dfs = prepare_data(dataframes=dfs, config=config[\"data_preparation\"])"
   ]
  },
  {
   "cell_type": "markdown",
   "id": "1f655cb8",
   "metadata": {},
   "source": [
    "**Train**\n",
    "\n",
    "- Train models for candidate generation\n",
    "- Train ranker"
   ]
  },
  {
   "cell_type": "code",
   "execution_count": 4,
   "id": "eddff67e",
   "metadata": {},
   "outputs": [
    {
     "name": "stdout",
     "output_type": "stream",
     "text": [
      "🏃 View run 08JUL2025_124005 at: http://127.0.0.1:5000/#/experiments/842522629086170842/runs/2857aef39c5b4fd2bc59da160d6b3e2a\n",
      "🧪 View experiment at: http://127.0.0.1:5000/#/experiments/842522629086170842\n",
      "🏃 View run SVD at: http://127.0.0.1:5000/#/experiments/842522629086170842/runs/23f1307505354e7e9fd2be9e80ac9048\n",
      "🧪 View experiment at: http://127.0.0.1:5000/#/experiments/842522629086170842\n",
      "🏃 View run 08JUL2025_124014 at: http://127.0.0.1:5000/#/experiments/842522629086170842/runs/3cfc0f9e019946259a95c4bf6fa2a24e\n",
      "🧪 View experiment at: http://127.0.0.1:5000/#/experiments/842522629086170842\n",
      "🏃 View run CoClustering at: http://127.0.0.1:5000/#/experiments/842522629086170842/runs/70a0d60d3b0c4256b4156cb6bf0325f2\n",
      "🧪 View experiment at: http://127.0.0.1:5000/#/experiments/842522629086170842\n",
      "🏃 View run 08JUL2025_124018 at: http://127.0.0.1:5000/#/experiments/842522629086170842/runs/bd580665dcd74eea993a7d089f1fd648\n",
      "🧪 View experiment at: http://127.0.0.1:5000/#/experiments/842522629086170842\n",
      "🏃 View run KNNWithMeans at: http://127.0.0.1:5000/#/experiments/842522629086170842/runs/2ed2075146614173988cd394b9fe8e08\n",
      "🧪 View experiment at: http://127.0.0.1:5000/#/experiments/842522629086170842\n"
     ]
    }
   ],
   "source": [
    "for algorithm in [\"SVD\", \"CoClustering\", \"KNNWithMeans\"]:\n",
    "    # load best hyper params\n",
    "    params = load_params(experiment_name=\"Retrieval\", parent_run_name=algorithm)\n",
    "\n",
    "    # model training\n",
    "    clf = Retrieval(algorithm=algorithm, params=params)\n",
    "    clf.fit(trainset=dfs[\"data\"])\n",
    "\n",
    "    # log model\n",
    "    logging = Logging(experiment_name=experiment_name, run_name=algorithm)\n",
    "    logging.log_run(clf=clf)"
   ]
  },
  {
   "cell_type": "code",
   "execution_count": 5,
   "id": "4151728d",
   "metadata": {},
   "outputs": [],
   "source": [
    "# negative samples for different sources\n",
    "neg_sample_1 = popular_items(ui_matrix=dfs[\"data\"], k=negative_sample_k)\n",
    "neg_sample_2 = CoVisit(methods=[\"negative\"]).fit(ui_matrix=dfs[\"data\"])\n",
    "neg_sample = pd.concat([neg_sample_1, neg_sample_2], ignore_index=True)\n",
    "\n",
    "neg_sample = neg_sample[[\"user_id\", \"item_id\"]]\n",
    "neg_sample[\"rating\"] = list(config[\"data_preparation\"][\"rating_conversion\"].keys())[0]\n",
    "\n",
    "del neg_sample_1, neg_sample_2\n",
    "\n",
    "# build features for ranking model\n",
    "user_item_features = feature_engineering(dataframes=dfs)\n",
    "\n",
    "# add negative samples and merge features\n",
    "df = pd.concat([dfs[\"data\"], neg_sample], ignore_index=True)\n",
    "df = build_rank_input(ratings=df.iloc[:,:3], features=user_item_features)\n",
    "\n",
    "del neg_sample, user_item_features"
   ]
  },
  {
   "cell_type": "code",
   "execution_count": 6,
   "id": "5c53f089",
   "metadata": {},
   "outputs": [
    {
     "data": {
      "application/vnd.jupyter.widget-view+json": {
       "model_id": "0eb952f4ae68468f97ce6469ddc15593",
       "version_major": 2,
       "version_minor": 0
      },
      "text/plain": [
       "Downloading artifacts:   0%|          | 0/7 [00:00<?, ?it/s]"
      ]
     },
     "metadata": {},
     "output_type": "display_data"
    },
    {
     "name": "stdout",
     "output_type": "stream",
     "text": [
      "🏃 View run 08JUL2025_124102 at: http://127.0.0.1:5000/#/experiments/842522629086170842/runs/7e71231fdf524cd5a4c53a01541d6dd0\n",
      "🧪 View experiment at: http://127.0.0.1:5000/#/experiments/842522629086170842\n",
      "🏃 View run XGBRanker at: http://127.0.0.1:5000/#/experiments/842522629086170842/runs/d8edc4822c7b447d8e8c2389cf194424\n",
      "🧪 View experiment at: http://127.0.0.1:5000/#/experiments/842522629086170842\n"
     ]
    }
   ],
   "source": [
    "for algorithm in [\"XGBRanker\"]:\n",
    "    # load best hyper params\n",
    "    params = load_params(experiment_name=\"Ranker\", parent_run_name=algorithm)\n",
    "    \n",
    "    # model training\n",
    "    clf = Ranker(algorithm=algorithm, params=params)\n",
    "    clf.fit(X=df[\"X\"], y=df[\"y\"], group=df[\"group\"])\n",
    "\n",
    "    # log model\n",
    "    logging = Logging(experiment_name=experiment_name, run_name=algorithm, input_sample=df[\"X\"].head())\n",
    "    logging.log_run(clf=clf)"
   ]
  }
 ],
 "metadata": {
  "kernelspec": {
   "display_name": ".venv",
   "language": "python",
   "name": "python3"
  },
  "language_info": {
   "codemirror_mode": {
    "name": "ipython",
    "version": 3
   },
   "file_extension": ".py",
   "mimetype": "text/x-python",
   "name": "python",
   "nbconvert_exporter": "python",
   "pygments_lexer": "ipython3",
   "version": "3.11.9"
  }
 },
 "nbformat": 4,
 "nbformat_minor": 5
}
