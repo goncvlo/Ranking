{
 "cells": [
  {
   "cell_type": "code",
   "execution_count": 1,
   "id": "1b86a67a",
   "metadata": {},
   "outputs": [],
   "source": [
    "import sys\n",
    "import os\n",
    "\n",
    "sys.path.append(os.path.abspath('..'))\n",
    "\n",
    "import yaml\n",
    "import pandas as pd\n",
    "import joblib\n",
    "\n",
    "from src.data.load import load_data\n",
    "from src.data.prepare import prepare_data\n",
    "from src.models.baseline import popular_items\n",
    "from src.models.co_visit import CoVisit\n",
    "from src.features.features import feature_engineering\n",
    "from src.features.utils import build_rank_input\n",
    "from src.models.ranker import Ranker\n",
    "from src.models.utils import set_global_seed"
   ]
  },
  {
   "cell_type": "markdown",
   "id": "06ddb1c4",
   "metadata": {},
   "source": [
    "**Config & Data Preparation**\n",
    "\n",
    "- Read project configurations and settings\n",
    "- Load and transform the 3 datasets"
   ]
  },
  {
   "cell_type": "code",
   "execution_count": 2,
   "id": "7fc9a863",
   "metadata": {},
   "outputs": [],
   "source": [
    "# read config\n",
    "with open('../main/config.yml', 'r') as file:\n",
    "    config=yaml.load(file, Loader= yaml.SafeLoader)\n",
    "\n",
    "config[\"data_loader\"][\"path\"] = \"../\" + config[\"data_loader\"][\"path\"]\n",
    "config[\"train\"][\"path\"] = \"../\" + config[\"train\"][\"path\"]\n",
    "del file\n",
    "\n",
    "# ensure reproducibility\n",
    "set_global_seed(seed=config[\"general\"][\"seed\"])"
   ]
  },
  {
   "cell_type": "code",
   "execution_count": 3,
   "id": "d6198ed8",
   "metadata": {},
   "outputs": [],
   "source": [
    "# load and prepare data\n",
    "dfs = load_data(config=config['data_loader'])\n",
    "dfs = prepare_data(dataframes=dfs, config=config[\"data_preparation\"])"
   ]
  },
  {
   "cell_type": "markdown",
   "id": "1f655cb8",
   "metadata": {},
   "source": [
    "**Train**\n",
    "\n",
    "- Train ranker"
   ]
  },
  {
   "cell_type": "code",
   "execution_count": 4,
   "id": "4151728d",
   "metadata": {},
   "outputs": [],
   "source": [
    "# negative samples for different sources\n",
    "neg_sample_1 = popular_items(ui_matrix=dfs[\"data\"], k=config[\"train\"][\"negative_sample\"][\"popular\"])\n",
    "neg_sample_2 = CoVisit(methods=[\"negative\"]).fit(ui_matrix=dfs[\"data\"])\n",
    "neg_sample = pd.concat([neg_sample_1, neg_sample_2], ignore_index=True)\n",
    "\n",
    "neg_sample = neg_sample[[\"user_id\", \"item_id\"]]\n",
    "neg_sample[\"rating\"] = list(config[\"data_preparation\"][\"rating_conversion\"].keys())[0]\n",
    "\n",
    "del neg_sample_1, neg_sample_2\n",
    "\n",
    "# build features for ranking model\n",
    "user_item_features = feature_engineering(dataframes=dfs)\n",
    "\n",
    "# add negative samples and merge features\n",
    "df = pd.concat([dfs[\"data\"], neg_sample], ignore_index=True)\n",
    "df = build_rank_input(ratings=df, features=user_item_features)\n",
    "\n",
    "del neg_sample, user_item_features"
   ]
  },
  {
   "cell_type": "code",
   "execution_count": 5,
   "id": "5c53f089",
   "metadata": {},
   "outputs": [],
   "source": [
    "for algorithm, params in config[\"train\"][\"ranker\"].items():\n",
    "    \n",
    "    # model training\n",
    "    clf = Ranker(algorithm=algorithm, params=params)\n",
    "    clf.fit(X=df[\"X\"], y=df[\"y\"], group=df[\"group\"])\n",
    "\n",
    "    # log model\n",
    "    joblib.dump(clf, f'{config[\"train\"][\"path\"]}/{algorithm}.joblib')"
   ]
  }
 ],
 "metadata": {
  "kernelspec": {
   "display_name": ".venv",
   "language": "python",
   "name": "python3"
  },
  "language_info": {
   "codemirror_mode": {
    "name": "ipython",
    "version": 3
   },
   "file_extension": ".py",
   "mimetype": "text/x-python",
   "name": "python",
   "nbconvert_exporter": "python",
   "pygments_lexer": "ipython3",
   "version": "3.11.9"
  }
 },
 "nbformat": 4,
 "nbformat_minor": 5
}
