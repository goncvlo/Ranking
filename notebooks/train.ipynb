{
 "cells": [
  {
   "cell_type": "code",
   "execution_count": 1,
   "id": "1b86a67a",
   "metadata": {},
   "outputs": [],
   "source": [
    "import sys\n",
    "import os\n",
    "\n",
    "sys.path.append(os.path.abspath('..'))\n",
    "\n",
    "import yaml\n",
    "import pandas as pd\n",
    "import optuna\n",
    "from datetime import datetime\n",
    "import mlflow\n",
    "\n",
    "from src.data.load import load_data\n",
    "from src.data.prepare import prepare_data\n",
    "from src.features.features import feature_engineering\n",
    "from src.features.utils import build_rank_input\n",
    "from src.models.ranker import Ranker\n",
    "from src.models.retrieval import Retrieval\n",
    "from src.models.co_visit import CoVisit\n",
    "from src.models.baseline import popular_items\n",
    "\n",
    "from src.models.tracker import launch_mlflow, load_params, get_or_create_run, log_artifact, log_model\n",
    "from src.models.utils import set_global_seed"
   ]
  },
  {
   "cell_type": "code",
   "execution_count": 2,
   "id": "7fc9a863",
   "metadata": {},
   "outputs": [],
   "source": [
    "# read config\n",
    "with open('config.yml', 'r') as file:\n",
    "    config=yaml.load(file, Loader= yaml.SafeLoader)\n",
    "del file\n",
    "\n",
    "# ensure reproducibility\n",
    "set_global_seed(seed=config[\"general\"][\"seed\"])\n",
    "\n",
    "# set experiment tracking\n",
    "launch_mlflow()\n",
    "\n",
    "# set params\n",
    "experiment_name = \"Training\"\n",
    "run_name_1 = \"CandidateGeneration\"\n",
    "run_name_2 = \"Ranking\"\n",
    "top_k_negative = 15"
   ]
  },
  {
   "cell_type": "markdown",
   "id": "06ddb1c4",
   "metadata": {},
   "source": [
    "**Data Preparation**\n",
    "\n",
    "- Load and transform the 3 datasets"
   ]
  },
  {
   "cell_type": "code",
   "execution_count": 3,
   "id": "d6198ed8",
   "metadata": {},
   "outputs": [],
   "source": [
    "# load and prepare data\n",
    "dfs = load_data(config=config['data_loader'])\n",
    "dfs = prepare_data(dataframes=dfs, config=config[\"data_preparation\"])"
   ]
  },
  {
   "cell_type": "markdown",
   "id": "1f655cb8",
   "metadata": {},
   "source": [
    "**Train**\n",
    "\n",
    "- Train models for candidate generation\n",
    "- Train ranker"
   ]
  },
  {
   "cell_type": "code",
   "execution_count": 4,
   "id": "eddff67e",
   "metadata": {},
   "outputs": [
    {
     "name": "stdout",
     "output_type": "stream",
     "text": [
      "🏃 View run SVD at: http://127.0.0.1:5000/#/experiments/542286196249503610/runs/36930036fc744053935c683c6de88d4c\n",
      "🧪 View experiment at: http://127.0.0.1:5000/#/experiments/542286196249503610\n",
      "🏃 View run CandidateGeneration at: http://127.0.0.1:5000/#/experiments/542286196249503610/runs/d52c64ca885043a88510302b9592c3d8\n",
      "🧪 View experiment at: http://127.0.0.1:5000/#/experiments/542286196249503610\n",
      "🏃 View run CoClustering at: http://127.0.0.1:5000/#/experiments/542286196249503610/runs/14e990cfb8c441679b579f5522e2e4da\n",
      "🧪 View experiment at: http://127.0.0.1:5000/#/experiments/542286196249503610\n",
      "🏃 View run CandidateGeneration at: http://127.0.0.1:5000/#/experiments/542286196249503610/runs/d52c64ca885043a88510302b9592c3d8\n",
      "🧪 View experiment at: http://127.0.0.1:5000/#/experiments/542286196249503610\n",
      "🏃 View run KNNWithMeans at: http://127.0.0.1:5000/#/experiments/542286196249503610/runs/555dfa8062be42f99c928c6e4987b93b\n",
      "🧪 View experiment at: http://127.0.0.1:5000/#/experiments/542286196249503610\n",
      "🏃 View run CandidateGeneration at: http://127.0.0.1:5000/#/experiments/542286196249503610/runs/d52c64ca885043a88510302b9592c3d8\n",
      "🧪 View experiment at: http://127.0.0.1:5000/#/experiments/542286196249503610\n"
     ]
    }
   ],
   "source": [
    "for algorithm in [\"SVD\", \"CoClustering\", \"KNNWithMeans\"]:\n",
    "    # load best hyper params\n",
    "    params = load_params(experiment_name=\"Retrieval\", parent_run_name=algorithm)\n",
    "\n",
    "    if algorithm==\"KNNWithMeans\":\n",
    "        # merge hyperparams in sim_options param\n",
    "        sim_options = {\n",
    "            \"name\": params[\"name\"]\n",
    "            , \"user_based\": params[\"user_based\"]\n",
    "            , \"min_support\": params[\"min_support\"]\n",
    "        }\n",
    "\n",
    "        del params[\"name\"], params[\"user_based\"], params[\"min_support\"]\n",
    "        params[\"sim_options\"] = sim_options\n",
    "\n",
    "    # model training\n",
    "    clf = Retrieval(algorithm=algorithm, params=params)\n",
    "    clf.fit(trainset=dfs[\"data\"])\n",
    "\n",
    "    # log model\n",
    "    with get_or_create_run(run_name=run_name_1, experiment_name=experiment_name) as parent:\n",
    "        with mlflow.start_run(run_name=algorithm, nested=True):\n",
    "            log_artifact(params, \"params\")\n",
    "            log_model(artifact=clf, artifact_name=f\"{algorithm}_instance\", input_sample=dfs[\"data\"].head())"
   ]
  },
  {
   "cell_type": "code",
   "execution_count": 5,
   "id": "4151728d",
   "metadata": {},
   "outputs": [],
   "source": [
    "# negative samples for different sources\n",
    "neg_sample_1 = popular_items(ui_matrix=dfs[\"data\"], top_k=top_k_negative)\n",
    "neg_sample_2 = CoVisit(methods=[\"negative\"]).fit(ui_matrix=dfs[\"data\"])\n",
    "neg_sample = pd.concat([neg_sample_1, neg_sample_2], ignore_index=True)\n",
    "\n",
    "neg_sample = neg_sample[[\"user_id\", \"item_id\"]]\n",
    "neg_sample[\"rating\"] = list(config[\"data_preparation\"][\"rating_conversion\"].keys())[0]\n",
    "\n",
    "del neg_sample_1, neg_sample_2"
   ]
  },
  {
   "cell_type": "code",
   "execution_count": 6,
   "id": "9e7e9094",
   "metadata": {},
   "outputs": [],
   "source": [
    "# build features for ranking model\n",
    "user_item_features = feature_engineering(dataframes=dfs)\n",
    "\n",
    "# add negative samples and merge features\n",
    "df = pd.concat([dfs[\"data\"], neg_sample], ignore_index=True)\n",
    "df = build_rank_input(ratings=df.iloc[:,:3], features=user_item_features)\n",
    "\n",
    "del neg_sample, user_item_features"
   ]
  },
  {
   "cell_type": "code",
   "execution_count": 7,
   "id": "5c53f089",
   "metadata": {},
   "outputs": [
    {
     "data": {
      "application/vnd.jupyter.widget-view+json": {
       "model_id": "34c802c3ef3c4dc99f56049a54212aa3",
       "version_major": 2,
       "version_minor": 0
      },
      "text/plain": [
       "Downloading artifacts:   0%|          | 0/7 [00:00<?, ?it/s]"
      ]
     },
     "metadata": {},
     "output_type": "display_data"
    },
    {
     "name": "stdout",
     "output_type": "stream",
     "text": [
      "🏃 View run XGBRanker at: http://127.0.0.1:5000/#/experiments/542286196249503610/runs/30c73adf5a704b8d98ac82517408fef1\n",
      "🧪 View experiment at: http://127.0.0.1:5000/#/experiments/542286196249503610\n",
      "🏃 View run Ranking at: http://127.0.0.1:5000/#/experiments/542286196249503610/runs/d705080ceb0c44a3b7b16b589992fd9b\n",
      "🧪 View experiment at: http://127.0.0.1:5000/#/experiments/542286196249503610\n"
     ]
    }
   ],
   "source": [
    "for algorithm in [\"XGBRanker\"]:\n",
    "    # load best hyper params\n",
    "    params = load_params(experiment_name=\"Ranker\", parent_run_name=algorithm)\n",
    "    \n",
    "    # model training\n",
    "    clf = Ranker(algorithm=algorithm, params=params)\n",
    "    clf.fit(X=df[\"X\"], y=df[\"y\"], group=df[\"group\"])\n",
    "\n",
    "    # log model\n",
    "    with get_or_create_run(run_name=run_name_2, experiment_name=experiment_name) as parent:\n",
    "        with mlflow.start_run(run_name=algorithm, nested=True):\n",
    "            log_artifact(params, \"params\")\n",
    "            log_model(artifact=clf, artifact_name=f\"{algorithm}_instance\", input_sample=df[\"X\"].head())"
   ]
  }
 ],
 "metadata": {
  "kernelspec": {
   "display_name": ".venv",
   "language": "python",
   "name": "python3"
  },
  "language_info": {
   "codemirror_mode": {
    "name": "ipython",
    "version": 3
   },
   "file_extension": ".py",
   "mimetype": "text/x-python",
   "name": "python",
   "nbconvert_exporter": "python",
   "pygments_lexer": "ipython3",
   "version": "3.11.9"
  }
 },
 "nbformat": 4,
 "nbformat_minor": 5
}
