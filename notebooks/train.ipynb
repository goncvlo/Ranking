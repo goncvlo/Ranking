{
 "cells": [
  {
   "cell_type": "code",
   "execution_count": 1,
   "id": "1b86a67a",
   "metadata": {},
   "outputs": [],
   "source": [
    "import sys\n",
    "import os\n",
    "\n",
    "sys.path.append(os.path.abspath('..'))\n",
    "\n",
    "import yaml\n",
    "import pandas as pd\n",
    "import optuna\n",
    "from datetime import datetime\n",
    "import mlflow\n",
    "\n",
    "from src.data.load import load_data\n",
    "from src.data.prepare import prepare_data\n",
    "from src.features.features import feature_engineering\n",
    "from src.features.utils import build_rank_input\n",
    "from src.models.ranker import Ranker\n",
    "from src.models.retrieval import Retrieval\n",
    "from src.models.co_visit import CoVisit\n",
    "from src.models.baseline import popular_items\n",
    "from src.models.tracker import launch_mlflow, Logging, load_params, get_run\n",
    "from src.models.utils import set_global_seed"
   ]
  },
  {
   "cell_type": "code",
   "execution_count": 2,
   "id": "7fc9a863",
   "metadata": {},
   "outputs": [],
   "source": [
    "# read config\n",
    "with open('config.yml', 'r') as file:\n",
    "    config=yaml.load(file, Loader= yaml.SafeLoader)\n",
    "del file\n",
    "\n",
    "# ensure reproducibility\n",
    "set_global_seed(seed=config[\"general\"][\"seed\"])\n",
    "\n",
    "# set experiment tracking\n",
    "launch_mlflow()\n",
    "\n",
    "# set params\n",
    "experiment_name = \"Training\"\n",
    "negative_sample_k = 15"
   ]
  },
  {
   "cell_type": "markdown",
   "id": "06ddb1c4",
   "metadata": {},
   "source": [
    "**Data Preparation**\n",
    "\n",
    "- Load and transform the 3 datasets"
   ]
  },
  {
   "cell_type": "code",
   "execution_count": 3,
   "id": "d6198ed8",
   "metadata": {},
   "outputs": [],
   "source": [
    "# load and prepare data\n",
    "dfs = load_data(config=config['data_loader'])\n",
    "dfs = prepare_data(dataframes=dfs, config=config[\"data_preparation\"])"
   ]
  },
  {
   "cell_type": "markdown",
   "id": "1f655cb8",
   "metadata": {},
   "source": [
    "**Train**\n",
    "\n",
    "- Train models for candidate generation\n",
    "- Train ranker"
   ]
  },
  {
   "cell_type": "code",
   "execution_count": 4,
   "id": "eddff67e",
   "metadata": {},
   "outputs": [
    {
     "name": "stdout",
     "output_type": "stream",
     "text": [
      "🏃 View run 08JUL2025_005007 at: http://127.0.0.1:5000/#/experiments/542286196249503610/runs/d69f206c3bfe44d481ed2eff45408d09\n",
      "🧪 View experiment at: http://127.0.0.1:5000/#/experiments/542286196249503610\n",
      "🏃 View run SVD at: http://127.0.0.1:5000/#/experiments/542286196249503610/runs/4142e7e912bc434f8897ad5626a0316a\n",
      "🧪 View experiment at: http://127.0.0.1:5000/#/experiments/542286196249503610\n",
      "🏃 View run 08JUL2025_005017 at: http://127.0.0.1:5000/#/experiments/542286196249503610/runs/5ec7d10f966546e9b9d32f0139c944a0\n",
      "🧪 View experiment at: http://127.0.0.1:5000/#/experiments/542286196249503610\n",
      "🏃 View run CoClustering at: http://127.0.0.1:5000/#/experiments/542286196249503610/runs/d3685a37c9894eacb73c75a96c4ad66b\n",
      "🧪 View experiment at: http://127.0.0.1:5000/#/experiments/542286196249503610\n",
      "🏃 View run 08JUL2025_005022 at: http://127.0.0.1:5000/#/experiments/542286196249503610/runs/b599e58e85aa4517abf5c0f61c1c7893\n",
      "🧪 View experiment at: http://127.0.0.1:5000/#/experiments/542286196249503610\n",
      "🏃 View run KNNWithMeans at: http://127.0.0.1:5000/#/experiments/542286196249503610/runs/ce621938bebf46088dd1222fbb612026\n",
      "🧪 View experiment at: http://127.0.0.1:5000/#/experiments/542286196249503610\n"
     ]
    }
   ],
   "source": [
    "for algorithm in [\"SVD\", \"CoClustering\", \"KNNWithMeans\"]:\n",
    "    # load best hyper params\n",
    "    params = load_params(experiment_name=\"Retrieval\", parent_run_name=algorithm)\n",
    "\n",
    "    if algorithm==\"KNNWithMeans\":\n",
    "        # merge hyperparams in sim_options param\n",
    "        sim_options = {\n",
    "            \"name\": params[\"name\"]\n",
    "            , \"user_based\": params[\"user_based\"]\n",
    "            , \"min_support\": params[\"min_support\"]\n",
    "        }\n",
    "\n",
    "        del params[\"name\"], params[\"user_based\"], params[\"min_support\"]\n",
    "        params[\"sim_options\"] = sim_options\n",
    "\n",
    "    # model training\n",
    "    clf = Retrieval(algorithm=algorithm, params=params)\n",
    "    clf.fit(trainset=dfs[\"data\"])\n",
    "\n",
    "    # log model\n",
    "    logging = Logging(experiment_name=experiment_name, run_name=algorithm)\n",
    "    logging.log_run(clf=clf)"
   ]
  },
  {
   "cell_type": "code",
   "execution_count": null,
   "id": "4151728d",
   "metadata": {},
   "outputs": [],
   "source": [
    "# negative samples for different sources\n",
    "neg_sample_1 = popular_items(ui_matrix=dfs[\"data\"], k=negative_sample_k)\n",
    "neg_sample_2 = CoVisit(methods=[\"negative\"]).fit(ui_matrix=dfs[\"data\"])\n",
    "neg_sample = pd.concat([neg_sample_1, neg_sample_2], ignore_index=True)\n",
    "\n",
    "neg_sample = neg_sample[[\"user_id\", \"item_id\"]]\n",
    "neg_sample[\"rating\"] = list(config[\"data_preparation\"][\"rating_conversion\"].keys())[0]\n",
    "\n",
    "del neg_sample_1, neg_sample_2"
   ]
  },
  {
   "cell_type": "code",
   "execution_count": null,
   "id": "9e7e9094",
   "metadata": {},
   "outputs": [],
   "source": [
    "# build features for ranking model\n",
    "user_item_features = feature_engineering(dataframes=dfs)\n",
    "\n",
    "# add negative samples and merge features\n",
    "df = pd.concat([dfs[\"data\"], neg_sample], ignore_index=True)\n",
    "df = build_rank_input(ratings=df.iloc[:,:3], features=user_item_features)\n",
    "\n",
    "del neg_sample, user_item_features"
   ]
  },
  {
   "cell_type": "code",
   "execution_count": null,
   "id": "5c53f089",
   "metadata": {},
   "outputs": [],
   "source": [
    "for algorithm in [\"XGBRanker\"]:\n",
    "    # load best hyper params\n",
    "    params = load_params(experiment_name=\"Ranker\", parent_run_name=algorithm)\n",
    "    \n",
    "    # model training\n",
    "    clf = Ranker(algorithm=algorithm, params=params)\n",
    "    clf.fit(X=df[\"X\"], y=df[\"y\"], group=df[\"group\"])\n",
    "\n",
    "    # log model\n",
    "    logging = Logging(experiment_name=experiment_name, run_name=algorithm, input_sample=df[\"X\"].head())\n",
    "    logging.log_run(clf=clf)"
   ]
  }
 ],
 "metadata": {
  "kernelspec": {
   "display_name": ".venv",
   "language": "python",
   "name": "python3"
  },
  "language_info": {
   "codemirror_mode": {
    "name": "ipython",
    "version": 3
   },
   "file_extension": ".py",
   "mimetype": "text/x-python",
   "name": "python",
   "nbconvert_exporter": "python",
   "pygments_lexer": "ipython3",
   "version": "3.11.9"
  }
 },
 "nbformat": 4,
 "nbformat_minor": 5
}
