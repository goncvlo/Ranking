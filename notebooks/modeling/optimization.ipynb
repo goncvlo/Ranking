{
 "cells": [
  {
   "cell_type": "code",
   "execution_count": 1,
   "id": "6fa35c35",
   "metadata": {},
   "outputs": [],
   "source": [
    "import sys\n",
    "import os\n",
    "\n",
    "sys.path.append(os.path.abspath('..\\..'))\n",
    "\n",
    "import yaml\n",
    "import pandas as pd\n",
    "import optuna\n",
    "\n",
    "from src.data.load import load_data\n",
    "from src.data.prepare import prepare_data\n",
    "from src.models.cv_iterator import leave_last_k\n",
    "from src.features.features import feature_engineering\n",
    "from src.models.retrieval import candidate_generation\n",
    "from src.features.utils import build_rank_input\n",
    "from src.models.tuner import BayesianSearch\n",
    "from src.models.ranker import Ranker\n",
    "from src.models.evaluator import evaluation, recs_score"
   ]
  },
  {
   "cell_type": "code",
   "execution_count": 2,
   "id": "0cbdb26b",
   "metadata": {},
   "outputs": [],
   "source": [
    "# read config\n",
    "with open('..\\config.yml', 'r') as file:\n",
    "    config=yaml.load(file, Loader= yaml.SafeLoader)\n",
    "del file"
   ]
  },
  {
   "cell_type": "code",
   "execution_count": 3,
   "id": "de3ceb8d",
   "metadata": {},
   "outputs": [],
   "source": [
    "# load and prepare data\n",
    "dfs = load_data(config=config['data_loader'])\n",
    "dfs = prepare_data(dataframes=dfs)"
   ]
  },
  {
   "cell_type": "code",
   "execution_count": 4,
   "id": "bbe7e5ce",
   "metadata": {},
   "outputs": [],
   "source": [
    "# train-test split\n",
    "df_train, df_test = leave_last_k(df=dfs['data'], config=config['optimization'])\n",
    "df_train, df_valid = leave_last_k(df=df_train, config=config['optimization'])"
   ]
  },
  {
   "cell_type": "markdown",
   "id": "23eb620d",
   "metadata": {},
   "source": [
    "**Model Building**\n",
    "- Candidate Generation: in addition to the existing observations, it retrieves items that a user might like/dislike it (negative sampling)\n",
    "- Feature Engineering: creates cross user-item features for ranking model\n",
    "- Hyper-parameter Tunning: searches best hyper-parameters to maximize evaluation metric"
   ]
  },
  {
   "cell_type": "code",
   "execution_count": 5,
   "id": "442d5f43",
   "metadata": {},
   "outputs": [],
   "source": [
    "# generate candidates through negative sampling\n",
    "candidates = candidate_generation(df_train, config['optimization']['retrieval'])\n",
    "df_train = pd.concat([df_train.iloc[:,:3], candidates['positive'], candidates['negative']], ignore_index=True)\n",
    "\n",
    "del candidates"
   ]
  },
  {
   "cell_type": "code",
   "execution_count": 6,
   "id": "d85b542f",
   "metadata": {},
   "outputs": [],
   "source": [
    "# build features for ranking model\n",
    "user_item_features = feature_engineering(\n",
    "    dataframes={'user': dfs['user'], 'item': dfs['item'], 'data': df_train}\n",
    "    )\n",
    "\n",
    "df_train, df_valid = [\n",
    "    build_rank_input(ratings=df.iloc[:,:3], features=user_item_features)\n",
    "    for df in (df_train, df_valid)\n",
    "    ]\n",
    "\n",
    "del user_item_features"
   ]
  },
  {
   "cell_type": "code",
   "execution_count": 7,
   "id": "bc2fdc26",
   "metadata": {},
   "outputs": [
    {
     "name": "stderr",
     "output_type": "stream",
     "text": [
      "[I 2025-05-12 22:18:32,673] A new study created in memory with name: no-name-3a289680-a53f-4c95-808a-3deb9d283e85\n",
      "[I 2025-05-12 22:18:43,533] Trial 0 finished with value: 0.9459524102928906 and parameters: {'learning_rate': 0.08416700210164313, 'gamma': 7.867365480779104, 'max_depth': 10, 'subsample': 0.6454684565834066, 'n_estimators': 197}. Best is trial 0 with value: 0.9459524102928906.\n",
      "[I 2025-05-12 22:18:54,704] Trial 1 finished with value: 0.946848369196119 and parameters: {'learning_rate': 0.12941499142751964, 'gamma': 9.804780997175758, 'max_depth': 8, 'subsample': 0.5674721938798314, 'n_estimators': 235}. Best is trial 1 with value: 0.946848369196119.\n",
      "[I 2025-05-12 22:19:06,245] Trial 2 finished with value: 0.9457180753334754 and parameters: {'learning_rate': 0.47989203335225766, 'gamma': 1.9563035196388312, 'max_depth': 14, 'subsample': 0.6050812656463934, 'n_estimators': 252}. Best is trial 1 with value: 0.946848369196119.\n",
      "[I 2025-05-12 22:19:21,080] Trial 3 finished with value: 0.9462005411615476 and parameters: {'learning_rate': 0.13637371771511383, 'gamma': 3.7492569123625286, 'max_depth': 5, 'subsample': 0.8066451925199509, 'n_estimators': 389}. Best is trial 1 with value: 0.946848369196119.\n",
      "[I 2025-05-12 22:19:35,938] Trial 4 finished with value: 0.9472508317689685 and parameters: {'learning_rate': 0.14379952704558843, 'gamma': 3.021465508633052, 'max_depth': 13, 'subsample': 0.6833312394882878, 'n_estimators': 369}. Best is trial 4 with value: 0.9472508317689685.\n",
      "[I 2025-05-12 22:19:41,347] Trial 5 finished with value: 0.9463336031515495 and parameters: {'learning_rate': 0.11329789749592421, 'gamma': 9.324144045969442, 'max_depth': 5, 'subsample': 0.7888279424267857, 'n_estimators': 78}. Best is trial 4 with value: 0.9472508317689685.\n",
      "[I 2025-05-12 22:19:46,159] Trial 6 finished with value: 0.9466327198057236 and parameters: {'learning_rate': 0.34227384469407085, 'gamma': 6.892953482430642, 'max_depth': 13, 'subsample': 0.7360220456991444, 'n_estimators': 57}. Best is trial 4 with value: 0.9472508317689685.\n",
      "[I 2025-05-12 22:20:00,090] Trial 7 finished with value: 0.9463219140179491 and parameters: {'learning_rate': 0.13837988464360346, 'gamma': 7.070329647752612, 'max_depth': 11, 'subsample': 0.5793698600557677, 'n_estimators': 357}. Best is trial 4 with value: 0.9472508317689685.\n",
      "[I 2025-05-12 22:20:09,115] Trial 8 finished with value: 0.9454613720683721 and parameters: {'learning_rate': 0.46732518921138766, 'gamma': 2.287341291585132, 'max_depth': 12, 'subsample': 0.5937369929361631, 'n_estimators': 190}. Best is trial 4 with value: 0.9472508317689685.\n",
      "[I 2025-05-12 22:20:21,059] Trial 9 finished with value: 0.9468530258347511 and parameters: {'learning_rate': 0.13710467004181962, 'gamma': 3.2967999176947793, 'max_depth': 11, 'subsample': 0.6103030464652373, 'n_estimators': 274}. Best is trial 4 with value: 0.9472508317689685.\n",
      "[I 2025-05-12 22:20:40,957] Trial 10 finished with value: 0.9451391120256081 and parameters: {'learning_rate': 0.0010947435270235728, 'gamma': 5.153350356675345, 'max_depth': 15, 'subsample': 0.944471719346209, 'n_estimators': 326}. Best is trial 4 with value: 0.9472508317689685.\n",
      "[I 2025-05-12 22:21:00,415] Trial 11 finished with value: 0.9441778531749725 and parameters: {'learning_rate': 0.26304290178548095, 'gamma': 0.30180956665958103, 'max_depth': 8, 'subsample': 0.6964257319915095, 'n_estimators': 307}. Best is trial 4 with value: 0.9472508317689685.\n",
      "[I 2025-05-12 22:21:11,574] Trial 12 finished with value: 0.9464607731328464 and parameters: {'learning_rate': 0.24774064910331045, 'gamma': 4.259967326819145, 'max_depth': 10, 'subsample': 0.5173982599737911, 'n_estimators': 282}. Best is trial 4 with value: 0.9472508317689685.\n",
      "[I 2025-05-12 22:21:20,269] Trial 13 finished with value: 0.9471097625436046 and parameters: {'learning_rate': 0.2086294968531145, 'gamma': 2.211977619440267, 'max_depth': 13, 'subsample': 0.8713138627006327, 'n_estimators': 152}. Best is trial 4 with value: 0.9472508317689685.\n",
      "[I 2025-05-12 22:21:36,260] Trial 14 finished with value: 0.945514026366874 and parameters: {'learning_rate': 0.2276610005515951, 'gamma': 0.4615010077015036, 'max_depth': 15, 'subsample': 0.8748008395173592, 'n_estimators': 128}. Best is trial 4 with value: 0.9472508317689685.\n",
      "[I 2025-05-12 22:21:44,249] Trial 15 finished with value: 0.9462711777496885 and parameters: {'learning_rate': 0.31542385032523257, 'gamma': 1.8244476551513369, 'max_depth': 13, 'subsample': 0.9815387301288582, 'n_estimators': 145}. Best is trial 4 with value: 0.9472508317689685.\n",
      "[I 2025-05-12 22:21:51,657] Trial 16 finished with value: 0.9470583284618785 and parameters: {'learning_rate': 0.20151805991248384, 'gamma': 5.601747263006912, 'max_depth': 3, 'subsample': 0.863769236060405, 'n_estimators': 137}. Best is trial 4 with value: 0.9472508317689685.\n",
      "[I 2025-05-12 22:22:03,514] Trial 17 finished with value: 0.9469434942295618 and parameters: {'learning_rate': 0.03706259880586371, 'gamma': 2.988002409345192, 'max_depth': 13, 'subsample': 0.6967715436099923, 'n_estimators': 192}. Best is trial 4 with value: 0.9472508317689685.\n",
      "[I 2025-05-12 22:22:20,274] Trial 18 finished with value: 0.9465422306529726 and parameters: {'learning_rate': 0.3587895885225337, 'gamma': 1.1602141288991836, 'max_depth': 8, 'subsample': 0.8747249096560404, 'n_estimators': 396}. Best is trial 4 with value: 0.9472508317689685.\n",
      "[I 2025-05-12 22:22:25,982] Trial 19 finished with value: 0.9468474517439632 and parameters: {'learning_rate': 0.20593683752510605, 'gamma': 4.459606725387298, 'max_depth': 12, 'subsample': 0.8046669826951763, 'n_estimators': 96}. Best is trial 4 with value: 0.9472508317689685.\n"
     ]
    },
    {
     "name": "stdout",
     "output_type": "stream",
     "text": [
      "Best trial:\n",
      " {'learning_rate': 0.14379952704558843, 'gamma': 3.021465508633052, 'max_depth': 13, 'subsample': 0.6833312394882878, 'n_estimators': 369}\n"
     ]
    }
   ],
   "source": [
    "# hyper-parameter tunning through bayesian search\n",
    "searcher = BayesianSearch(config['optimization']['hyper_params'], algorithm='XGBRanker')\n",
    "\n",
    "def objective(trial) -> float:\n",
    "    return searcher.fit(df_train, df_valid, trial)\n",
    "\n",
    "study = optuna.create_study(direction='maximize')\n",
    "study.optimize(objective, n_trials=20)\n",
    "\n",
    "print(\"Best trial:\\n\", study.best_trial.params)\n",
    "del searcher"
   ]
  },
  {
   "cell_type": "markdown",
   "id": "96271074",
   "metadata": {},
   "source": [
    "**Evaluation**\n",
    "- Use best hyper-params to train on previous train and validation sets\n",
    "- Check model accuracy on test set"
   ]
  },
  {
   "cell_type": "code",
   "execution_count": 8,
   "id": "9039a41b",
   "metadata": {},
   "outputs": [],
   "source": [
    "# get anti test-set, i.e., train & validation sets together\n",
    "df_train = dfs['data'].merge(\n",
    "    df_test\n",
    "    , on=['user_id', 'item_id', 'rating'], how='left'\n",
    "    , indicator=True\n",
    "    )\n",
    "df_train = df_train[df_train['_merge'] == 'left_only'].drop(columns=['_merge'])"
   ]
  },
  {
   "cell_type": "code",
   "execution_count": 9,
   "id": "56ac30fc",
   "metadata": {},
   "outputs": [],
   "source": [
    "# generate candidates\n",
    "candidates = candidate_generation(df_train, config['optimization']['retrieval'])\n",
    "df_train_ = pd.concat([df_train.iloc[:,:3], candidates['positive'], candidates['negative']], ignore_index=True)\n",
    "\n",
    "del candidates"
   ]
  },
  {
   "cell_type": "code",
   "execution_count": 10,
   "id": "39b622ca",
   "metadata": {},
   "outputs": [],
   "source": [
    "# create features for ranking model\n",
    "user_item_features = feature_engineering(\n",
    "    dataframes={'user': dfs['user'], 'item': dfs['item'], 'data': df_train_}\n",
    "    )\n",
    "\n",
    "df_train_, df_test_ = [\n",
    "    build_rank_input(ratings=df.iloc[:,:3], features=user_item_features) for df in (df_train_, df_test)\n",
    "    ]\n",
    "\n",
    "del user_item_features"
   ]
  },
  {
   "cell_type": "code",
   "execution_count": 11,
   "id": "bbc255b0",
   "metadata": {},
   "outputs": [
    {
     "name": "stdout",
     "output_type": "stream",
     "text": [
      "NDCG: 0.9524690087179413\n"
     ]
    }
   ],
   "source": [
    "clf = Ranker(algorithm='XGBRanker', params=study.best_trial.params)\n",
    "clf.fit(\n",
    "    df_train_['X'], df_train_['y']\n",
    "    , group=df_train_['group']\n",
    "    )\n",
    "\n",
    "preds = clf.predict(df_test_['X'])\n",
    "\n",
    "print(f\"NDCG: {evaluation(df_test_['y'], preds, df_test_['group'])}\")\n",
    "\n",
    "# shouldn't be done with test set\n",
    "# recs_score(df_test.iloc[:, :2], df_train.iloc[:, :3])"
   ]
  }
 ],
 "metadata": {
  "kernelspec": {
   "display_name": ".venv",
   "language": "python",
   "name": "python3"
  },
  "language_info": {
   "codemirror_mode": {
    "name": "ipython",
    "version": 3
   },
   "file_extension": ".py",
   "mimetype": "text/x-python",
   "name": "python",
   "nbconvert_exporter": "python",
   "pygments_lexer": "ipython3",
   "version": "3.11.9"
  }
 },
 "nbformat": 4,
 "nbformat_minor": 5
}
